{
 "cells": [
  {
   "cell_type": "markdown",
   "metadata": {},
   "source": [
    "# Stake Shift Computation Litecoin"
   ]
  },
  {
   "cell_type": "code",
   "execution_count": 5,
   "metadata": {
    "collapsed": true
   },
   "outputs": [],
   "source": [
    "import blocksci\n",
    "import blocksci.cluster_python\n",
    "import matplotlib.pyplot as plt\n",
    "import matplotlib.ticker\n",
    "import collections\n",
    "import pandas as pd\n",
    "import numpy as np\n",
    "import calendar\n",
    "from datetime import datetime\n",
    "from copy import deepcopy\n",
    "from tqdm import tqdm_notebook\n",
    "from collections import defaultdict\n",
    "%matplotlib notebook"
   ]
  },
  {
   "cell_type": "code",
   "execution_count": 28,
   "metadata": {
    "collapsed": true
   },
   "outputs": [],
   "source": [
    "# Load parsed chain\n",
    "chain = blocksci.Blockchain(\"/home/abdallah/litecoin-data\")"
   ]
  },
  {
   "cell_type": "code",
   "execution_count": null,
   "metadata": {
    "collapsed": true
   },
   "outputs": [],
   "source": [
    "# Load clusters\n",
    "clusters = blocksci.cluster_python.ClusterManager(\"/home/abdallah/litecoin-data/clusters/\")"
   ]
  },
  {
   "cell_type": "code",
   "execution_count": null,
   "metadata": {
    "collapsed": true
   },
   "outputs": [],
   "source": [
    "# Get Change Addresses\n",
    "change_addrs = dict()\n",
    "for block in tqdm_notebook(chain[:-10]):\n",
    "    for tx in block:\n",
    "        if (not tx.is_coinbase) and (not blocksci.heuristics.is_coinjoin(tx)):\n",
    "            if blocksci.heuristics.unique_change_by_address_reuse(tx) is None:\n",
    "                out = blocksci.heuristics.unique_change_by_client_change_address_behavior_legacy(tx)\n",
    "                if out is not None:\n",
    "                    if out.address not in change_addrs:\n",
    "                        change_addrs[out.address] = 1\n",
    "                    else:\n",
    "                        change_addrs[out.address] = change_addrs[out.address] + 1"
   ]
  },
  {
   "cell_type": "code",
   "execution_count": null,
   "metadata": {
    "collapsed": true
   },
   "outputs": [],
   "source": [
    "# Checks if a given address is involved with Satoshi Bones\n",
    "def isInvolvedSatoshi(addr):\n",
    "    adr_out_txes = addr.out_txes()\n",
    "    for out_tx in adr_out_txes:\n",
    "        for txout in out_tx.outs:\n",
    "            if str(txout.address.script)[:6] == \"Lbones\":\n",
    "                return True\n",
    "    return False"
   ]
  },
  {
   "cell_type": "code",
   "execution_count": null,
   "metadata": {
    "collapsed": true
   },
   "outputs": [],
   "source": [
    "# False Positive Computation\n",
    "falsePositives = dict()\n",
    "satoshi_count = 0\n",
    "for addr in tqdm_notebook(change_addrs):\n",
    "    in_txes_cnt = len(addr.in_txes())\n",
    "    if in_txes_cnt == 2:\n",
    "        if not isInvolvedSatoshi(addr):\n",
    "            falsePositives[addr.script] = 1\n",
    "        else : \n",
    "            satoshi_count += 1\n",
    "    elif in_txes_cnt > 2:\n",
    "        falsePositives[addr.script] = 1"
   ]
  },
  {
   "cell_type": "code",
   "execution_count": null,
   "metadata": {
    "collapsed": true
   },
   "outputs": [],
   "source": [
    "# Final Stake Computation Function\n",
    "def computeStakesNew(clusters, falsePositives, heights):\n",
    "    cluster_count = clusters.cluster_count()\n",
    "    stakes_list = [[] for i in range(cluster_count)]\n",
    "    for height in tqdm_notebook(heights):\n",
    "        i = 0\n",
    "        for cluster in clusters.clusters():\n",
    "            stake = 0\n",
    "            for script in cluster.scripts:\n",
    "                if script not in falsePositives:\n",
    "                    stake += script.balance(height)\n",
    "            stakes_list[i].append(stake)\n",
    "            i+=1\n",
    "    for x in range(len(falsePositives)):\n",
    "        stakes_list.append([])\n",
    "    for h_idx, height in enumerate(heights):\n",
    "        y = cluster_count\n",
    "        for fp in falsePositives:\n",
    "            stakes_list[y].append(fp.balance(height))\n",
    "            y += 1\n",
    "    return stakes_list"
   ]
  },
  {
   "cell_type": "code",
   "execution_count": null,
   "metadata": {
    "collapsed": true
   },
   "outputs": [],
   "source": [
    "# Compute stakes in terms of probabilities\n",
    "def stakesProb(stakes, heights):\n",
    "    p_stakes = []\n",
    "    for i in range(0,len(heights)):\n",
    "        stake = list(map(lambda x : x[i], stakes))\n",
    "        p_stakes.append(np.array(stake) / np.sum(stake))\n",
    "    return p_stakes"
   ]
  },
  {
   "cell_type": "code",
   "execution_count": null,
   "metadata": {
    "collapsed": true
   },
   "outputs": [],
   "source": [
    "# Compute the statistical distance\n",
    "def statDist(p_stakes, heights):\n",
    "    stat_dists = []\n",
    "    for i in range(0, len(heights) -1):\n",
    "        stat_dists.append(0.5 * np.sum(np.absolute(np.array(p_stakes[i]) - np.array(p_stakes[i+1]))))\n",
    "    return stat_dists"
   ]
  },
  {
   "cell_type": "code",
   "execution_count": 3,
   "metadata": {
    "collapsed": true
   },
   "outputs": [],
   "source": [
    "# Evaluates the statistical distances\n",
    "def evaluate(stat_dist):\n",
    "    print (\"Mean : %f\" %(np.mean(stat_dist)))\n",
    "    print (\"Var : %f\" %(np.var(stat_dist)))\n",
    "    print (\"Std Dev : %f\" %(np.std(stat_dist, ddof=1)))"
   ]
  },
  {
   "cell_type": "markdown",
   "metadata": {},
   "source": [
    "# Yearly Stake Shifts"
   ]
  },
  {
   "cell_type": "code",
   "execution_count": null,
   "metadata": {
    "collapsed": true
   },
   "outputs": [],
   "source": [
    "# Get heights of blocks for yearly stake shift computation\n",
    "T = calendar.timegm(datetime(2018,2,1).timetuple())\n",
    "T_blocks_year = chain.filter_blocks(lambda x : x.timestamp < T)\n",
    "print(len(T_blocks_year))\n",
    "heights = []\n",
    "dates = [2012,2013,2014,2015,2016,2017]\n",
    "for blk in T_blocks_year:\n",
    "    if blk.time.year == dates[0]:\n",
    "        print(blk.time.year)\n",
    "        heights.append(blk.height)\n",
    "        del dates[0]\n",
    "        if len(dates) == 0:\n",
    "            break;"
   ]
  },
  {
   "cell_type": "code",
   "execution_count": null,
   "metadata": {
    "collapsed": true
   },
   "outputs": [],
   "source": [
    "# Compute yearly stakes\n",
    "stakes_t_year = computeStakesNew(clusters,falsePositives, heights)"
   ]
  },
  {
   "cell_type": "code",
   "execution_count": null,
   "metadata": {
    "collapsed": true
   },
   "outputs": [],
   "source": [
    "# Get the stakes in terms of probabilities\n",
    "stake_probs = stakesProb(stakes_t_year, heights)"
   ]
  },
  {
   "cell_type": "code",
   "execution_count": null,
   "metadata": {
    "collapsed": true
   },
   "outputs": [],
   "source": [
    "stakes_2012 = list(map(lambda x : x[0], stake_probs))"
   ]
  },
  {
   "cell_type": "code",
   "execution_count": null,
   "metadata": {
    "collapsed": true
   },
   "outputs": [],
   "source": [
    "stakes_2013 = list(map(lambda x : x[1], stake_probs))"
   ]
  },
  {
   "cell_type": "code",
   "execution_count": null,
   "metadata": {
    "collapsed": true
   },
   "outputs": [],
   "source": [
    "stakes_2012 = stake_probs[0]\n",
    "stakes_2013 = stake_probs[1]"
   ]
  },
  {
   "cell_type": "code",
   "execution_count": null,
   "metadata": {
    "collapsed": true
   },
   "outputs": [],
   "source": [
    "# Stake distributions plots\n",
    "x = range(len(stakes_2012))\n",
    "fig, axis1 = plt.subplots()\n",
    "# prob_stakes = list(np.array(stakes_2012)/1e8)\n",
    "axis1.bar(x, stakes_2012)\n",
    "axis1.set_ylabel(\"Stake shift\")\n",
    "# axis1.set_xticks(range(len(stat_dists_h)))\n",
    "# axis1.set_ylim([0,1.0])\n",
    "# axis1.set_xticklabels((\"2012-2013\", \"2013-2014\",\"2014-2015\", \"2015-2016\", \"2016-2017\"))"
   ]
  },
  {
   "cell_type": "code",
   "execution_count": null,
   "metadata": {
    "collapsed": true
   },
   "outputs": [],
   "source": [
    "x = range(len(stakes_2012))\n",
    "df = pd.DataFrame({\"Stakes at T1\": np.array(stakes_2012[:65000]) }, index=x[:65000])\n",
    "ax = df.plot(legend=False)\n",
    "ax.set_ylim(0)\n",
    "# ax.set_title(\"Stakes at time T1\")\n",
    "ax.set_xlabel(\"Address number\")\n",
    "# ax.set_yscale(\"log\",nonposy=\"clip\")\n",
    "ax.set_ylabel(\"Stake\")"
   ]
  },
  {
   "cell_type": "code",
   "execution_count": null,
   "metadata": {
    "collapsed": true
   },
   "outputs": [],
   "source": [
    "x = range(len(stakes_2013))\n",
    "df = pd.DataFrame({\"Stakes at T1\": np.array(stakes_2013[:65000]) }, index=x[:65000])\n",
    "ax = df.plot(legend=False)\n",
    "ax.set_ylim(0)\n",
    "# ax.set_title(\"Stakes at time T1\")\n",
    "ax.set_xlabel(\"Address number\")\n",
    "# ax.set_yscale(\"log\",nonposy=\"clip\")\n",
    "ax.set_ylabel(\"Stake\")"
   ]
  },
  {
   "cell_type": "code",
   "execution_count": null,
   "metadata": {
    "collapsed": true
   },
   "outputs": [],
   "source": [
    "stat_dists = statDist(stakesProb(stakes_t_year, heights), heights)"
   ]
  },
  {
   "cell_type": "code",
   "execution_count": null,
   "metadata": {
    "collapsed": true
   },
   "outputs": [],
   "source": [
    "evaluate(stat_dists)"
   ]
  },
  {
   "cell_type": "code",
   "execution_count": null,
   "metadata": {
    "collapsed": true
   },
   "outputs": [],
   "source": [
    "del stakes_t_year_year\n",
    "del stat_dists"
   ]
  },
  {
   "cell_type": "markdown",
   "metadata": {},
   "source": [
    "# Monthly Stake Shift"
   ]
  },
  {
   "cell_type": "code",
   "execution_count": null,
   "metadata": {
    "collapsed": true
   },
   "outputs": [],
   "source": [
    "# Get heights of blocks for monthly stake shift computation\n",
    "T1 = calendar.timegm(datetime(2012,12,31).timetuple())\n",
    "T2 = calendar.timegm(datetime(2014,1,1).timetuple())\n",
    "T_blocks_month = chain.filter_blocks(lambda x : x.timestamp > T1 and x.timestamp < T2)\n",
    "heights = []\n",
    "months = list(range(1,13))\n",
    "for blk in T_blocks_month:\n",
    "    if blk.time.month == months[0]:\n",
    "        heights.append(blk.height)\n",
    "        del months[0]\n",
    "        if len(months) == 0:\n",
    "            break;"
   ]
  },
  {
   "cell_type": "code",
   "execution_count": null,
   "metadata": {
    "collapsed": true
   },
   "outputs": [],
   "source": [
    "stakes_t_month = computeStakesNew(clusters,falsePositives, heights)"
   ]
  },
  {
   "cell_type": "code",
   "execution_count": null,
   "metadata": {
    "collapsed": true
   },
   "outputs": [],
   "source": [
    "stat_dists = statDist(stakesProb(stakes_t_month, heights), heights)"
   ]
  },
  {
   "cell_type": "code",
   "execution_count": null,
   "metadata": {
    "collapsed": true
   },
   "outputs": [],
   "source": [
    "evaluate(stat_dists)"
   ]
  },
  {
   "cell_type": "code",
   "execution_count": null,
   "metadata": {
    "collapsed": true
   },
   "outputs": [],
   "source": [
    "import os \n",
    "\n",
    "x = range(len(stat_dists))\n",
    "fig, axis1 = plt.subplots()\n",
    "\n",
    "axis1.bar(x, stat_dists)\n",
    "axis1.set_ylabel(\"Stake shift\")\n",
    "axis1.set_xticks(range(len(stat_dists)))\n",
    "axis1.set_ylim([0,0.35])\n",
    "axis1.set_xticklabels((\"Jan-Feb\", \"Feb-Mar\",\"Mar-April\", \"April-May\", \"May-June\", \"June-July\", \"July-Aug\", \"Aug-Sep\", \"Sep-Oct\", \"Oct-Nov\", \"Nov-Dec\"),rotation=45,ha=\"right\")"
   ]
  },
  {
   "cell_type": "code",
   "execution_count": null,
   "metadata": {
    "collapsed": true
   },
   "outputs": [],
   "source": [
    "del stakes_t_month"
   ]
  },
  {
   "cell_type": "markdown",
   "metadata": {},
   "source": [
    "# Weekly Stake Shift"
   ]
  },
  {
   "cell_type": "code",
   "execution_count": null,
   "metadata": {
    "collapsed": true
   },
   "outputs": [],
   "source": [
    "# Get heights of blocks for weekly stake shift computation\n",
    "T1 = calendar.timegm(datetime(2015,12,31).timetuple())\n",
    "T2 = calendar.timegm(datetime(2017,1,1).timetuple())\n",
    "T_blocks_month = chain.filter_blocks(lambda x : x.timestamp > T1 and x.timestamp < T2)\n",
    "heights = []\n",
    "weeks = [1,8,15,22,29]\n",
    "months = [10,11] # Get stakes for every week of months\n",
    "\n",
    "for blk in T_blocks_month:\n",
    "    if blk.time.month == months[0]:\n",
    "        if blk.time.day == weeks[0]:\n",
    "            heights.append(blk.height)\n",
    "            del weeks[0]\n",
    "            if len(weeks) == 0:\n",
    "                del months[0]\n",
    "                weeks = [1,8,15,22,29]\n",
    "                if len(months) == 0:\n",
    "                    break;"
   ]
  },
  {
   "cell_type": "code",
   "execution_count": null,
   "metadata": {
    "collapsed": true
   },
   "outputs": [],
   "source": [
    "stakes_t_weekly = []\n",
    "computeStakes(stakes_t_weekly, clusters.clusters(),falsePositives, heights)"
   ]
  },
  {
   "cell_type": "code",
   "execution_count": null,
   "metadata": {
    "collapsed": true
   },
   "outputs": [],
   "source": [
    "stat_dists = statDist(stakesProb(stakes_t_weekly, heights), heights)"
   ]
  },
  {
   "cell_type": "code",
   "execution_count": null,
   "metadata": {
    "collapsed": true
   },
   "outputs": [],
   "source": [
    "del stat_dists[4]"
   ]
  },
  {
   "cell_type": "code",
   "execution_count": null,
   "metadata": {
    "collapsed": true
   },
   "outputs": [],
   "source": [
    "evaluate(stat_dists)"
   ]
  },
  {
   "cell_type": "code",
   "execution_count": null,
   "metadata": {
    "collapsed": true
   },
   "outputs": [],
   "source": [
    "import os \n",
    "\n",
    "x = range(len(stat_dists))\n",
    "\n",
    "fig, axis1 = plt.subplots()\n",
    "axis1.bar(x, stat_dists)\n",
    "axis1.set_ylabel(\"Stake shift\")\n",
    "axis1.set_xticks(range(len(stat_dists)))\n",
    "axis1.set_xticklabels((\"AugW1-AugW2\", \"AugW2-AugW3\",\"AugW3-AugW4\", \"AugW4\", \"SepW1-SepW2\", \"SepW2-SepW3\", \"SepW3-SepW4\", \"SepW4\"),rotation=45,ha=\"right\")"
   ]
  },
  {
   "cell_type": "code",
   "execution_count": null,
   "metadata": {
    "collapsed": true
   },
   "outputs": [],
   "source": [
    "del stakes_t_weekly"
   ]
  },
  {
   "cell_type": "markdown",
   "metadata": {},
   "source": [
    "# Daily Stake Shift"
   ]
  },
  {
   "cell_type": "code",
   "execution_count": null,
   "metadata": {
    "collapsed": true
   },
   "outputs": [],
   "source": [
    "# Get heights of blocks for weekly stake shift computation\n",
    "T1 = calendar.timegm(datetime(2014,1,31).timetuple())\n",
    "T2 = calendar.timegm(datetime(2014,4,1).timetuple())\n",
    "T_blocks_month = chain.filter_blocks(lambda x : x.timestamp > T1 and x.timestamp < T2)\n",
    "heights = []\n",
    "days = list(range(1,32))\n",
    "month = 3 # December\n",
    "# months = [11,12] # Get stakes for every week of Nov and Dec\n",
    "\n",
    "for blk in T_blocks_month:\n",
    "    if blk.time.year == 2014:\n",
    "        if blk.time.month == month:\n",
    "            if blk.time.day == days[0]:\n",
    "                heights.append(blk.height)\n",
    "                del days[0]\n",
    "                if len(days) == 0:\n",
    "                    break;"
   ]
  },
  {
   "cell_type": "code",
   "execution_count": null,
   "metadata": {
    "collapsed": true
   },
   "outputs": [],
   "source": [
    "stakes_t_daily = computeStakesNew(clusters, falsePositives, heights)"
   ]
  },
  {
   "cell_type": "code",
   "execution_count": null,
   "metadata": {
    "collapsed": true
   },
   "outputs": [],
   "source": [
    "stat_dists = statDist(stakesProb(stakes_t_daily, heights), heights)"
   ]
  },
  {
   "cell_type": "code",
   "execution_count": null,
   "metadata": {
    "collapsed": true
   },
   "outputs": [],
   "source": [
    "stat_dists"
   ]
  },
  {
   "cell_type": "code",
   "execution_count": null,
   "metadata": {
    "collapsed": true
   },
   "outputs": [],
   "source": [
    "stat_dists = [0.004228147393279441,\n",
    " 0.005830400148499495,\n",
    " 0.01903068328453799,\n",
    " 0.013198674355844448,\n",
    " 0.006531507104055283,\n",
    " 0.005672397374652413,\n",
    " 0.008635692486950983,\n",
    " 0.1724657390816944,\n",
    " 0.004185325017258931,\n",
    " 0.0119502722446238,\n",
    " 0.006555634764443115,\n",
    " 0.004513564316690012,\n",
    " 0.006319384551023752,\n",
    " 0.019155361948026365,\n",
    " 0.008427100768668112,\n",
    " 0.012269559746210553,\n",
    " 0.014767077683986106,\n",
    " 0.007933466394616406,\n",
    " 0.016989066713793573,\n",
    " 0.006659876361173962,\n",
    " 0.005202543723824965,\n",
    " 0.002802939145608437,\n",
    " 0.007187900339335251,\n",
    " 0.009422491487475834,\n",
    " 0.013888109442417671,\n",
    " 0.004364306066160262,\n",
    " 0.0066841634667438275,\n",
    " 0.0036991890170084596,\n",
    " 0.0034148117390475287,\n",
    " 0.007276201046600854]"
   ]
  },
  {
   "cell_type": "code",
   "execution_count": null,
   "metadata": {
    "collapsed": true
   },
   "outputs": [],
   "source": [
    "del stat_dists[7]"
   ]
  },
  {
   "cell_type": "code",
   "execution_count": null,
   "metadata": {
    "collapsed": true
   },
   "outputs": [],
   "source": [
    "evaluate(stat_dists)"
   ]
  },
  {
   "cell_type": "code",
   "execution_count": null,
   "metadata": {
    "collapsed": true
   },
   "outputs": [],
   "source": [
    "\n",
    "x = range(1,len(stat_dists)+1)\n",
    "\n",
    "fig, axis1 = plt.subplots()\n",
    "\n",
    "axis1.bar(x, stat_dists, align='center', width=0.8)\n",
    "axis1.set_ylabel(\"Stake shift\")\n",
    "axis1.set_xlabel(\"Days of the month\")\n",
    "\n",
    "axis1.set_ylim([0,0.06])\n",
    "axis1.set_xticks(x)\n",
    "axis1.set_xticklabels((x),rotation=45)\n",
    "# axis1.set_xticklabels((\"\",\"NovW1-NovW2\", \"NovW2-NovW3\",\"NovW3-NovW4\", \"NovW4-DecW1\", \"DecW1-DecW2\", \"DecW2-DecW3\", \"DecW3-DecW4\"),rotation=45,ha=\"right\")\n",
    "\n"
   ]
  },
  {
   "cell_type": "code",
   "execution_count": null,
   "metadata": {
    "collapsed": true
   },
   "outputs": [],
   "source": [
    "del stakes_t_daily"
   ]
  },
  {
   "cell_type": "markdown",
   "metadata": {},
   "source": [
    "# Per Block Stake Shift"
   ]
  },
  {
   "cell_type": "code",
   "execution_count": 29,
   "metadata": {
    "collapsed": true
   },
   "outputs": [],
   "source": [
    "# Get heights of blocks for daily stake shift computation\n",
    "T1 = calendar.timegm(datetime(2017,4,13).timetuple())\n",
    "T2 = calendar.timegm(datetime(2017,4,14).timetuple())\n",
    "T_blocks_day = chain.filter_blocks(lambda x : x.timestamp > T1 and x.timestamp < T2)\n",
    "heights = []\n",
    "for blk in T_blocks_day:\n",
    "    heights.append(blk.height)"
   ]
  },
  {
   "cell_type": "code",
   "execution_count": null,
   "metadata": {
    "collapsed": true,
    "scrolled": true
   },
   "outputs": [],
   "source": [
    "stakes_t_block = computeStakesNew(clusters,falsePositives, heights[175:275])"
   ]
  },
  {
   "cell_type": "code",
   "execution_count": null,
   "metadata": {
    "collapsed": true
   },
   "outputs": [],
   "source": [
    "stat_dists = statDist(stakesProb(stakes_t_block, heights[175:275]), heights[175:275])"
   ]
  },
  {
   "cell_type": "code",
   "execution_count": null,
   "metadata": {
    "collapsed": true
   },
   "outputs": [],
   "source": [
    "import pickle \n",
    "\n",
    "with open('ltc_block_sh_3', 'wb') as file:\n",
    "    pickle.dump(stat_dists, file)"
   ]
  },
  {
   "cell_type": "code",
   "execution_count": null,
   "metadata": {
    "collapsed": true
   },
   "outputs": [],
   "source": [
    "del stakes_t_block\n",
    "del stat_dists"
   ]
  },
  {
   "cell_type": "code",
   "execution_count": null,
   "metadata": {
    "collapsed": true
   },
   "outputs": [],
   "source": [
    "stakes_t_block = computeStakesNew(clusters,falsePositives, heights[475:575])"
   ]
  },
  {
   "cell_type": "code",
   "execution_count": null,
   "metadata": {
    "collapsed": true
   },
   "outputs": [],
   "source": [
    "stat_dists = statDist(stakesProb(stakes_t_block, heights[475:575]), heights[475:575])"
   ]
  },
  {
   "cell_type": "code",
   "execution_count": null,
   "metadata": {
    "collapsed": true
   },
   "outputs": [],
   "source": [
    "with open('ltc_block_sh_4', 'wb') as file:\n",
    "    pickle.dump(stat_dists, file)"
   ]
  },
  {
   "cell_type": "code",
   "execution_count": null,
   "metadata": {
    "collapsed": true
   },
   "outputs": [],
   "source": [
    "del stakes_t_block\n",
    "del stat_dists"
   ]
  },
  {
   "cell_type": "code",
   "execution_count": null,
   "metadata": {
    "collapsed": true
   },
   "outputs": [],
   "source": [
    "len(stakes_t_block[594563]), len(heights)"
   ]
  },
  {
   "cell_type": "markdown",
   "metadata": {},
   "source": [
    "del stakes_t_block_old"
   ]
  },
  {
   "cell_type": "code",
   "execution_count": null,
   "metadata": {
    "collapsed": true
   },
   "outputs": [],
   "source": [
    "stakes_t_block_old = [] \n",
    "computeStakes(stakes_t_block_old,clusters.clusters(),falsePositives, [heights[75]])"
   ]
  },
  {
   "cell_type": "code",
   "execution_count": null,
   "metadata": {
    "collapsed": true
   },
   "outputs": [],
   "source": [
    "list(map(lambda x : x[0], stakes_t_block_old)) == list(map(lambda x : x[0], stakes_t_block))"
   ]
  },
  {
   "cell_type": "code",
   "execution_count": null,
   "metadata": {
    "collapsed": true
   },
   "outputs": [],
   "source": [
    "stat_dists = statDist(stakesProb(stakes_t_block, heights[75:175]), heights[75:175])"
   ]
  },
  {
   "cell_type": "code",
   "execution_count": null,
   "metadata": {
    "collapsed": true
   },
   "outputs": [],
   "source": [
    "evaluate(stat_dists_disk)"
   ]
  },
  {
   "cell_type": "code",
   "execution_count": null,
   "metadata": {
    "collapsed": true
   },
   "outputs": [],
   "source": [
    "np.std(stat_dists_disk,ddof=1)"
   ]
  },
  {
   "cell_type": "code",
   "execution_count": null,
   "metadata": {
    "collapsed": true
   },
   "outputs": [],
   "source": [
    "\n",
    "x = range(1,len(stat_dists)+1)\n",
    "\n",
    "fig, axis1 = plt.subplots()\n",
    "\n",
    "axis1.bar(x, stat_dists, align='center', width=0.8)\n",
    "axis1.set_ylabel(\"Stake shift\")\n",
    "axis1.set_xlabel(\"Block\")"
   ]
  },
  {
   "cell_type": "code",
   "execution_count": null,
   "metadata": {
    "collapsed": true
   },
   "outputs": [],
   "source": [
    "import pickle \n",
    "\n",
    "with open('ltc_block_sh_2', 'wb') as file:\n",
    "    pickle.dump(stat_dists, file)"
   ]
  },
  {
   "cell_type": "code",
   "execution_count": 1,
   "metadata": {
    "collapsed": true
   },
   "outputs": [],
   "source": [
    "import pickle \n",
    "stat_dists = []\n",
    "with open('ltc_block_sh', 'rb') as file:\n",
    "    stat_dists = pickle.load(file)"
   ]
  },
  {
   "cell_type": "code",
   "execution_count": 9,
   "metadata": {
    "collapsed": true
   },
   "outputs": [],
   "source": [
    "stat_dists2 = []\n",
    "with open('ltc_block_sh_2', 'rb') as file:\n",
    "    stat_dists2 = pickle.load(file)"
   ]
  },
  {
   "cell_type": "code",
   "execution_count": 13,
   "metadata": {
    "collapsed": true
   },
   "outputs": [],
   "source": [
    "stat_dists3 = []\n",
    "with open('ltc_block_sh_3', 'rb') as file:\n",
    "    stat_dists3 = pickle.load(file)"
   ]
  },
  {
   "cell_type": "code",
   "execution_count": 17,
   "metadata": {
    "collapsed": true
   },
   "outputs": [],
   "source": [
    "stat_dists4 = []\n",
    "with open('ltc_block_sh_4', 'rb') as file:\n",
    "    stat_dists4 = pickle.load(file)"
   ]
  },
  {
   "cell_type": "code",
   "execution_count": 18,
   "metadata": {},
   "outputs": [
    {
     "name": "stdout",
     "output_type": "stream",
     "text": [
      "Mean : 0.000020\n",
      "Var : 0.000000\n",
      "Std Dev : 0.000086\n"
     ]
    }
   ],
   "source": [
    "evaluate(stat_dists4)"
   ]
  },
  {
   "cell_type": "code",
   "execution_count": 19,
   "metadata": {},
   "outputs": [
    {
     "data": {
      "text/plain": [
       "7.311524750849577e-09"
      ]
     },
     "execution_count": 19,
     "metadata": {},
     "output_type": "execute_result"
    }
   ],
   "source": [
    "np.var(stat_dists4)"
   ]
  },
  {
   "cell_type": "code",
   "execution_count": 15,
   "metadata": {},
   "outputs": [
    {
     "data": {
      "text/plain": [
       "99"
      ]
     },
     "execution_count": 15,
     "metadata": {},
     "output_type": "execute_result"
    }
   ],
   "source": [
    "len(stat_dists3)"
   ]
  },
  {
   "cell_type": "code",
   "execution_count": 50,
   "metadata": {
    "collapsed": true
   },
   "outputs": [],
   "source": [
    "heights1 = heights[475:575]"
   ]
  },
  {
   "cell_type": "code",
   "execution_count": null,
   "metadata": {
    "collapsed": true
   },
   "outputs": [],
   "source": [
    "chain[heights1[50]].input_value-chain[heights1[50]].output_value"
   ]
  },
  {
   "cell_type": "code",
   "execution_count": 51,
   "metadata": {
    "collapsed": true
   },
   "outputs": [],
   "source": [
    "out_values = []\n",
    "for h in heights1:\n",
    "    out_values.append(chain[h].output_value)\n",
    "norm_out_values = np.array(out_values) / np.sum(out_values)"
   ]
  },
  {
   "cell_type": "code",
   "execution_count": 52,
   "metadata": {
    "collapsed": true
   },
   "outputs": [],
   "source": [
    "norm_out_values = np.array(out_values) / np.sum(out_values)"
   ]
  },
  {
   "cell_type": "code",
   "execution_count": null,
   "metadata": {
    "collapsed": true
   },
   "outputs": [],
   "source": [
    "chain[heights1[0]].output_value "
   ]
  },
  {
   "cell_type": "code",
   "execution_count": null,
   "metadata": {
    "collapsed": true
   },
   "outputs": [],
   "source": [
    "stat_dists_disk[0]"
   ]
  },
  {
   "cell_type": "code",
   "execution_count": null,
   "metadata": {
    "collapsed": true
   },
   "outputs": [],
   "source": [
    "np.median(stat_dists)"
   ]
  },
  {
   "cell_type": "code",
   "execution_count": null,
   "metadata": {
    "collapsed": true
   },
   "outputs": [],
   "source": [
    "from scipy import stats\n",
    "m = stats.mode(np.array(stat_dists))\n",
    "print(m[0])\n",
    "print(m[1])"
   ]
  },
  {
   "cell_type": "code",
   "execution_count": null,
   "metadata": {
    "collapsed": true
   },
   "outputs": [],
   "source": [
    "chain[heights1[0]].time.hour"
   ]
  },
  {
   "cell_type": "markdown",
   "metadata": {},
   "source": [
    "# Understanding Stake shift (Associations with Volume, Price, Block Output Value)"
   ]
  },
  {
   "cell_type": "code",
   "execution_count": 140,
   "metadata": {
    "collapsed": true
   },
   "outputs": [],
   "source": [
    "volumes_2014_str =[\"7,248,790\", \"10,933,600\", \"3,442,020\", \"20,549,800\", \"25,956,800\", \"7,946,950\", \"6,448,800\", \"8,181,220\", \"2,493,740\", \"6,305,450\", \"18,958,100\", \"15,946,500\", \"35,045,000\", \"28,101,700\", \"6,764,140\", \"5,627,180\", \"3,080,560\", \"4,006,980\", \"4,116,820\", \"12,417,500\", \"3,714,800\", \"5,340,680\", \"6,666,580\", \"5,923,750\", \"6,222,120\", \"8,044,810\", \"11,390,300\", \"47,109,100\", \"17,573,800\", \"3,812,480\", \"3,267,220\"]"
   ]
  },
  {
   "cell_type": "code",
   "execution_count": 141,
   "metadata": {
    "collapsed": true
   },
   "outputs": [],
   "source": [
    "volumes_2014_rev = volumes_2014_str[::-1]"
   ]
  },
  {
   "cell_type": "code",
   "execution_count": 216,
   "metadata": {},
   "outputs": [
    {
     "data": {
      "text/plain": [
       "'98,922,600'"
      ]
     },
     "execution_count": 216,
     "metadata": {},
     "output_type": "execute_result"
    }
   ],
   "source": [
    "volumes_2017_rev[-1]"
   ]
  },
  {
   "cell_type": "code",
   "execution_count": 217,
   "metadata": {
    "collapsed": true
   },
   "outputs": [],
   "source": [
    "volumes_2017 = [int(x.replace(\",\",\"\")) for x in volumes_2017_rev]"
   ]
  },
  {
   "cell_type": "code",
   "execution_count": 143,
   "metadata": {
    "collapsed": true
   },
   "outputs": [],
   "source": [
    "stat_dists_daily_2014 = [0.014291122061695126,\n",
    " 0.011729100020567089,\n",
    " 0.01803756759508095,\n",
    " 0.038188021364326925,\n",
    " 0.016175630375501064,\n",
    " 0.009473617669006616,\n",
    " 0.008912949140875233,\n",
    " 0.006499180503345936,\n",
    " 0.006226755240393181,\n",
    " 0.0073253837951858655,\n",
    " 0.006881014496969389,\n",
    " 0.016373949847827425,\n",
    " 0.005304292561241198,\n",
    " 0.005102499822028463,\n",
    " 0.0064387955784965265,\n",
    " 0.008000694844483815,\n",
    " 0.010456890264980364,\n",
    " 0.01672954943437949,\n",
    " 0.027003766859625754,\n",
    " 0.014700826177234437,\n",
    " 0.015892584857797255,\n",
    " 0.009076292380738841,\n",
    " 0.006380513557022265,\n",
    " 0.0074326892551324335,\n",
    " 0.004494799339119913,\n",
    " 0.007083040240966617,\n",
    " 0.016115303192086462,\n",
    " 0.009052054349732821,\n",
    " 0.006016374638532558,\n",
    " 0.016071682889388695]"
   ]
  },
  {
   "cell_type": "code",
   "execution_count": 144,
   "metadata": {},
   "outputs": [
    {
     "data": {
      "text/plain": [
       "0.295329220460391"
      ]
     },
     "execution_count": 144,
     "metadata": {},
     "output_type": "execute_result"
    }
   ],
   "source": [
    "np.corrcoef(volumes_2014[1:], stat_dists_daily_2014)[0,1]"
   ]
  },
  {
   "cell_type": "code",
   "execution_count": 77,
   "metadata": {
    "collapsed": true
   },
   "outputs": [],
   "source": [
    "import os\n",
    "ltc_prices_loc = os.path.join(os.getcwd(),'ltc-usd-max.csv')\n",
    "ltc_prices = pd.read_csv(ltc_prices_loc)"
   ]
  },
  {
   "cell_type": "code",
   "execution_count": 86,
   "metadata": {},
   "outputs": [
    {
     "data": {
      "text/plain": [
       "snapped_at      2013-08-07 00:00:00 UTC\n",
       "price                           2.76763\n",
       "market_cap                  5.56514e+07\n",
       "total_volume                          0\n",
       "Name: 100, dtype: object"
      ]
     },
     "execution_count": 86,
     "metadata": {},
     "output_type": "execute_result"
    }
   ],
   "source": [
    "ltc_prices.iloc[100]"
   ]
  },
  {
   "cell_type": "code",
   "execution_count": 78,
   "metadata": {},
   "outputs": [
    {
     "data": {
      "text/plain": [
       "datetime.datetime(2013, 4, 29, 0, 0)"
      ]
     },
     "execution_count": 78,
     "metadata": {},
     "output_type": "execute_result"
    }
   ],
   "source": [
    "datetime.strptime(ltc_prices.iloc[1]['snapped_at'].replace(\" UTC\", \"\"),'%Y-%m-%d %X')"
   ]
  },
  {
   "cell_type": "code",
   "execution_count": null,
   "metadata": {
    "collapsed": true
   },
   "outputs": [],
   "source": [
    "# Get LTC price\n",
    "idxes = []\n",
    "times = []\n",
    "for h in heights1:\n",
    "    times.append(chain[h].time)\n",
    "hours = list(range(0,24))# Get stakes for every hour\n",
    "\n",
    "day = 15\n",
    "month = 11\n",
    "year = 2016\n",
    "\n",
    "for index, row in btc_prices.iterrows():\n",
    "    row_date = datetime.strptime(row['Date'],'%Y-%m-%d %X')\n",
    "    if row_date.month == month and row_date.day == day and row_date.year == year:\n",
    "        if row_date.hour == hours[0]:\n",
    "            idxes.append(index)\n",
    "            del hours[0]\n",
    "            if len(hours) == 0:\n",
    "                break;"
   ]
  },
  {
   "cell_type": "code",
   "execution_count": 149,
   "metadata": {
    "collapsed": true
   },
   "outputs": [],
   "source": [
    "abs_vol_diff = []\n",
    "for i in range(0, len(volumes_2016) -1):\n",
    "    abs_vol_diff.append(np.absolute(volumes_2016[i] - volumes_2016[i+1]))"
   ]
  },
  {
   "cell_type": "code",
   "execution_count": 232,
   "metadata": {},
   "outputs": [
    {
     "data": {
      "text/plain": [
       "SpearmanrResult(correlation=0.08031145717463849, pvalue=0.6731160927086494)"
      ]
     },
     "execution_count": 232,
     "metadata": {},
     "output_type": "execute_result"
    }
   ],
   "source": [
    "import scipy.stats\n",
    "scipy.stats.spearmanr(x, y)"
   ]
  },
  {
   "cell_type": "code",
   "execution_count": 231,
   "metadata": {},
   "outputs": [
    {
     "data": {
      "text/plain": [
       "0.02959281658623067"
      ]
     },
     "execution_count": 231,
     "metadata": {},
     "output_type": "execute_result"
    }
   ],
   "source": [
    "np.corrcoef(x,y)[0,1]"
   ]
  },
  {
   "cell_type": "code",
   "execution_count": 230,
   "metadata": {},
   "outputs": [
    {
     "name": "stderr",
     "output_type": "stream",
     "text": [
      "/usr/local/lib/python3.5/dist-packages/matplotlib/figure.py:418: UserWarning: matplotlib is currently using a non-GUI backend, so cannot show the figure\n",
      "  \"matplotlib is currently using a non-GUI backend, \"\n"
     ]
    },
    {
     "data": {
      "text/plain": [
       "Text(0,0.5,'Daily Stake Shift')"
      ]
     },
     "execution_count": 230,
     "metadata": {},
     "output_type": "execute_result"
    },
    {
     "data": {
      "image/png": "[encoded data removed]",
      "text/plain": [
       "<matplotlib.figure.Figure at 0x7f66b4b20668>"
      ]
     },
     "metadata": {},
     "output_type": "display_data"
    }
   ],
   "source": [
    "y = list(np.array(stat_dists_daily_2017)/np.linalg.norm(np.array(stat_dists_daily_2017)))\n",
    "x = list(np.array(volumes_2017[:-1])/np.linalg.norm(np.array(volumes_2017[:-1])))\n",
    "fig, ax = plt.subplots()\n",
    "ax.scatter(y=y, x=x)\n",
    "ax.plot(np.unique(x),np.poly1d(np.polyfit(x,y,1))(np.unique(x)), color='red')\n",
    "fig.show()\n",
    "ax.set_xlabel(\"Volume\")\n",
    "ax.set_ylabel(\"Daily Stake Shift\")\n"
   ]
  },
  {
   "cell_type": "code",
   "execution_count": 126,
   "metadata": {},
   "outputs": [
    {
     "data": {
      "text/plain": [
       "<Container object of 30 artists>"
      ]
     },
     "execution_count": 126,
     "metadata": {},
     "output_type": "execute_result"
    },
    {
     "data": {
      "image/png": "[encoded data removed]",
      "text/plain": [
       "<matplotlib.figure.Figure at 0x7f66ada59198>"
      ]
     },
     "metadata": {},
     "output_type": "display_data"
    }
   ],
   "source": [
    "x = range(1,len(stat_dists_daily_2016)+1)\n",
    "\n",
    "fig, axis1 = plt.subplots()\n",
    "# fig2, axis2 = plt.subplots()\n",
    "\n",
    "axis2 = axis1.twinx()\n",
    "axis1.bar(x, stat_dists_daily_2016, align='center', width=0.8)\n",
    "axis1.set_ylabel(\"Stake shift\")\n",
    "axis1.set_xlabel(\"Block Number\")\n",
    "# axis1.set_ylim([0,0.0016])\n",
    "axis2.bar(range(len(volumes_2016))[1:], volumes_2016[1:], color='red', alpha=0.4)\n",
    "# axis2.plot(df2,'red')\n",
    "# axis2.set_ylabel(\"BTC price in $\")\n",
    "# axis2.set_xticks((x))\n",
    "# axis2.grid(b=False)\n",
    "# axis1.set_xticks(x)\n",
    "# axis1.set_xticklabels((x),rotation=45)\n",
    "# axis1.set_xticklabels((\"\",\"NovW1-NovW2\", \"NovW2-NovW3\",\"NovW3-NovW4\", \"NovW4-DecW1\", \"DecW1-DecW2\", \"DecW2-DecW3\", \"DecW3-DecW4\"),rotation=45,ha=\"right\")\n",
    "# btc_price_handle = matplotlib.patches.Patch(color='red',label='Abs BTC price change', alpha=0.4)\n",
    "# stake_shift_handle = matplotlib.patches.Patch(color='C0',label='Stake shift')\n",
    "# fig.legend(handles=[btc_price_handle,stake_shift_handle])\n"
   ]
  },
  {
   "cell_type": "code",
   "execution_count": null,
   "metadata": {
    "collapsed": true
   },
   "outputs": [],
   "source": [
    "len(out_values[41:50]), len(stat_dists_disk[40:49])"
   ]
  },
  {
   "cell_type": "code",
   "execution_count": null,
   "metadata": {
    "collapsed": true
   },
   "outputs": [],
   "source": [
    "chain[heights1[40]].time.hour"
   ]
  },
  {
   "cell_type": "code",
   "execution_count": 211,
   "metadata": {},
   "outputs": [
    {
     "data": {
      "text/plain": [
       "0.7512321419397808"
      ]
     },
     "execution_count": 211,
     "metadata": {},
     "output_type": "execute_result"
    }
   ],
   "source": [
    "np.corrcoef(x,y)[0,1]"
   ]
  },
  {
   "cell_type": "code",
   "execution_count": 274,
   "metadata": {},
   "outputs": [
    {
     "name": "stderr",
     "output_type": "stream",
     "text": [
      "/usr/local/lib/python3.5/dist-packages/statsmodels/compat/pandas.py:56: FutureWarning: The pandas.core.datetools module is deprecated and will be removed in a future version. Please use the pandas.tseries module instead.\n",
      "  from pandas.core import datetools\n"
     ]
    }
   ],
   "source": [
    "# QQ PLOTS AND SHAPIRO WILK TESTS FOR NORMALITY\n",
    "import statsmodels.api as sm\n",
    "import pylab"
   ]
  },
  {
   "cell_type": "code",
   "execution_count": 291,
   "metadata": {
    "collapsed": true
   },
   "outputs": [],
   "source": [
    "test_data = np.random.normal(0,1,len(stat_dists_daily_2014))"
   ]
  },
  {
   "cell_type": "code",
   "execution_count": 298,
   "metadata": {},
   "outputs": [
    {
     "data": {
      "text/plain": [
       "(0.7589969038963318, 9.805899935599882e-06)"
      ]
     },
     "execution_count": 298,
     "metadata": {},
     "output_type": "execute_result"
    }
   ],
   "source": [
    "scipy.stats.shapiro(volumes_2014)"
   ]
  },
  {
   "cell_type": "code",
   "execution_count": 294,
   "metadata": {},
   "outputs": [
    {
     "data": {
      "image/png": "[encoded data removed]",
      "text/plain": [
       "<matplotlib.figure.Figure at 0x7f66a8d95630>"
      ]
     },
     "metadata": {},
     "output_type": "display_data"
    }
   ],
   "source": [
    "sm.qqplot(np.array(stat_dists), line='45')\n",
    "pylab.show()"
   ]
  },
  {
   "cell_type": "code",
   "execution_count": 252,
   "metadata": {
    "collapsed": true
   },
   "outputs": [],
   "source": [
    "# Get heights of blocks for daily stake shift computation\n",
    "T1 = calendar.timegm(datetime(2017,4,13).timetuple())\n",
    "T2 = calendar.timegm(datetime(2017,4,14).timetuple())\n",
    "T_blocks_day = chain.filter_blocks(lambda x : x.timestamp > T1 and x.timestamp < T2)\n",
    "heights = []\n",
    "for blk in T_blocks_day:\n",
    "    heights.append(blk.height)"
   ]
  },
  {
   "cell_type": "code",
   "execution_count": 267,
   "metadata": {
    "collapsed": true
   },
   "outputs": [],
   "source": [
    "heights1 = heights[175:275]"
   ]
  },
  {
   "cell_type": "code",
   "execution_count": 272,
   "metadata": {},
   "outputs": [
    {
     "data": {
      "text/plain": [
       "SpearmanrResult(correlation=0.8821225016663485, pvalue=1.7598902874348177e-33)"
      ]
     },
     "execution_count": 272,
     "metadata": {},
     "output_type": "execute_result"
    }
   ],
   "source": [
    "import scipy.stats\n",
    "scipy.stats.spearmanr(x, y)"
   ]
  },
  {
   "cell_type": "code",
   "execution_count": 273,
   "metadata": {},
   "outputs": [
    {
     "data": {
      "text/plain": [
       "0.7327428507325143"
      ]
     },
     "execution_count": 273,
     "metadata": {},
     "output_type": "execute_result"
    }
   ],
   "source": [
    "np.corrcoef(x,y)[0,1]"
   ]
  },
  {
   "cell_type": "code",
   "execution_count": 268,
   "metadata": {
    "collapsed": true
   },
   "outputs": [],
   "source": [
    "# Out values computation\n",
    "out_values = []\n",
    "for h in heights1:\n",
    "    out_values.append(chain[h].output_value)\n",
    "norm_out_values = np.array(out_values) / np.sum(out_values)"
   ]
  },
  {
   "cell_type": "code",
   "execution_count": 269,
   "metadata": {},
   "outputs": [
    {
     "name": "stderr",
     "output_type": "stream",
     "text": [
      "/usr/local/lib/python3.5/dist-packages/matplotlib/figure.py:418: UserWarning: matplotlib is currently using a non-GUI backend, so cannot show the figure\n",
      "  \"matplotlib is currently using a non-GUI backend, \"\n"
     ]
    },
    {
     "data": {
      "text/plain": [
       "Text(0,0.5,'Stake Shift : Block Time Interval')"
      ]
     },
     "execution_count": 269,
     "metadata": {},
     "output_type": "execute_result"
    },
    {
     "data": {
      "image/png": "[encoded data removed]",
      "text/plain": [
       "<matplotlib.figure.Figure at 0x7f66a2a35550>"
      ]
     },
     "metadata": {},
     "output_type": "display_data"
    }
   ],
   "source": [
    "# Correlation scatter plot between out_values and stat dists\n",
    "x = list(np.array(stat_dists3)/np.linalg.norm(np.array(stat_dists3)))\n",
    "y = list(np.array(out_values[1:])/np.linalg.norm(np.array(out_values[1:])))\n",
    "fig, ax = plt.subplots()\n",
    "ax.scatter(y=y, x=x)\n",
    "ax.plot(np.unique(x),np.poly1d(np.polyfit(x,y,1))(np.unique(x)), color='red')\n",
    "fig.show()\n",
    "ax.set_xlabel(\"Block Output Value\")\n",
    "ax.set_ylabel(\"Stake Shift : Block Time Interval\")"
   ]
  },
  {
   "cell_type": "markdown",
   "metadata": {},
   "source": [
    "# Out Value Daily Stake Shift Correlation"
   ]
  },
  {
   "cell_type": "code",
   "execution_count": 380,
   "metadata": {
    "collapsed": true
   },
   "outputs": [],
   "source": [
    "# Get heights of blocks for weekly stake shift computation\n",
    "T1 = calendar.timegm(datetime(2017,3,1).timetuple())\n",
    "T2 = calendar.timegm(datetime(2017,4,1).timetuple())\n",
    "T_blocks_month = chain.filter_blocks(lambda x : x.timestamp > T1 and x.timestamp < T2)\n",
    "daily_out_values_17 = []\n",
    "days = list(range(1,32))\n",
    "month = 3 # December\n",
    "# months = [11,12] # Get stakes for every week of Nov and Dec\n",
    "for day in days:\n",
    "    out_val = 0\n",
    "    for blk in T_blocks_month:\n",
    "        if blk.time.month == month:\n",
    "            if blk.time.day == day:\n",
    "                out_val += chain[blk.height].output_value\n",
    "    daily_out_values_17.append(out_val)"
   ]
  },
  {
   "cell_type": "code",
   "execution_count": 391,
   "metadata": {
    "collapsed": true
   },
   "outputs": [],
   "source": [
    "stat_dists_daily_2016 = [0.016096035254624406,\n",
    " 0.005003604210986567,\n",
    " 0.03116935562219343,\n",
    " 0.013707775985647073,\n",
    " 0.008970945872496644,\n",
    " 0.0024846034491686395,\n",
    " 0.015372483963885549,\n",
    " 0.004999970503909164,\n",
    " 0.0031540649789399103,\n",
    " 0.0029343968852261586,\n",
    " 0.008247943547127419,\n",
    " 0.004761662154428153,\n",
    " 0.006322026559592211,\n",
    " 0.008523335000604426,\n",
    " 0.007989241547064195,\n",
    " 0.008746973983405366,\n",
    " 0.008491019160090941,\n",
    " 0.007016967097659603,\n",
    " 0.004219825768752152,\n",
    " 0.005855405253345231,\n",
    " 0.00324582806548929,\n",
    " 0.005128018364154707,\n",
    " 0.007856567978328385,\n",
    " 0.008241006982907625,\n",
    " 0.014590749289510223,\n",
    " 0.007656862605157915,\n",
    " 0.0043888988903117016,\n",
    " 0.009799289673502644,\n",
    " 0.012044792710442126,\n",
    " 0.009228965397337061]"
   ]
  },
  {
   "cell_type": "code",
   "execution_count": 394,
   "metadata": {},
   "outputs": [
    {
     "name": "stderr",
     "output_type": "stream",
     "text": [
      "/usr/local/lib/python3.5/dist-packages/matplotlib/figure.py:418: UserWarning: matplotlib is currently using a non-GUI backend, so cannot show the figure\n",
      "  \"matplotlib is currently using a non-GUI backend, \"\n"
     ]
    },
    {
     "data": {
      "text/plain": [
       "Text(0,0.5,'Stake Shift : Day Time Interval')"
      ]
     },
     "execution_count": 394,
     "metadata": {},
     "output_type": "execute_result"
    },
    {
     "data": {
      "image/png": "[encoded data removed]",
      "text/plain": [
       "<matplotlib.figure.Figure at 0x7f66a9c55a58>"
      ]
     },
     "metadata": {},
     "output_type": "display_data"
    }
   ],
   "source": [
    "x = list(np.array(stat_dists_daily_2017)/np.linalg.norm(np.array(stat_dists_daily_2017)))\n",
    "y = list(np.array(daily_out_values_17[:-1])/np.linalg.norm(np.array(daily_out_values_17[:-1])))\n",
    "fig, ax = plt.subplots()\n",
    "ax.scatter(y=y, x=x)\n",
    "ax.plot(np.unique(x),np.poly1d(np.polyfit(x,y,1))(np.unique(x)), color='red')\n",
    "fig.show()\n",
    "ax.set_xlabel(\"Blocks Output Value\")\n",
    "ax.set_ylabel(\"Stake Shift : Day Time Interval\")"
   ]
  },
  {
   "cell_type": "code",
   "execution_count": 368,
   "metadata": {},
   "outputs": [
    {
     "data": {
      "text/plain": [
       "<Container object of 30 artists>"
      ]
     },
     "execution_count": 368,
     "metadata": {},
     "output_type": "execute_result"
    },
    {
     "data": {
      "image/png": "[encoded data removed]",
      "text/plain": [
       "<matplotlib.figure.Figure at 0x7f66a9f6a8d0>"
      ]
     },
     "metadata": {},
     "output_type": "display_data"
    }
   ],
   "source": [
    "x = range(1,len(stat_dists_daily_2014)+1)\n",
    "# x2 = range(1, len(mod_stat_dists)+1 )\n",
    "# df = pd.DataFrame({\"Stakes at T3\": stat_dists_month_h2 }, index=x)\n",
    "\n",
    "#         btc_prices_loc = os.path.join(os.getcwd(),'btc-2013.csv')\n",
    "#         btc_prices = pd.read_csv(btc_prices_loc)\n",
    "# btc_prices.iloc[idxes]['Close Price']\n",
    "\n",
    "# df2 = pd.DataFrame({\"BTC price\": out_values }, index=range(len(out_values))[1:26])\n",
    "# btc_prices.iloc[idxes]\n",
    "# df2\n",
    "\n",
    "fig, axis1 = plt.subplots()\n",
    "# fig2, axis2 = plt.subplots()\n",
    "\n",
    "axis2 = axis1.twinx()\n",
    "axis1.bar(x, list(np.array(stat_dists_daily_2014)/np.linalg.norm(np.array(stat_dists_daily_2014))), align='center', width=0.8)\n",
    "axis1.set_ylabel(\"Stake shift\")\n",
    "axis1.set_xlabel(\"Block Number\")\n",
    "# axis1.set_ylim([0,0.0016])\n",
    "axis2.bar(range(len(daily_out_values))[1:], list(np.array(daily_out_values[:-1])/np.linalg.norm(np.array(daily_out_values[:-1]))), color='red', alpha=0.4)\n",
    "# axis2.plot(df2,'red')\n",
    "# axis2.set_ylabel(\"BTC price in $\")\n",
    "# axis2.set_xticks((x))\n",
    "# axis2.grid(b=False)\n",
    "# axis1.set_xticks(x)\n",
    "# axis1.set_xticklabels((x),rotation=45)\n",
    "# axis1.set_xticklabels((\"\",\"NovW1-NovW2\", \"NovW2-NovW3\",\"NovW3-NovW4\", \"NovW4-DecW1\", \"DecW1-DecW2\", \"DecW2-DecW3\", \"DecW3-DecW4\"),rotation=45,ha=\"right\")\n",
    "# btc_price_handle = matplotlib.patches.Patch(color='red',label='Abs BTC price change', alpha=0.4)\n",
    "# stake_shift_handle = matplotlib.patches.Patch(color='C0',label='Stake shift')\n",
    "# fig.legend(handles=[btc_price_handle,stake_shift_handle])\n"
   ]
  },
  {
   "cell_type": "code",
   "execution_count": 393,
   "metadata": {},
   "outputs": [
    {
     "data": {
      "text/plain": [
       "SpearmanrResult(correlation=0.5666295884315907, pvalue=0.0010965641649193633)"
      ]
     },
     "execution_count": 393,
     "metadata": {},
     "output_type": "execute_result"
    }
   ],
   "source": [
    "# Spearman's Rank Order Correlation Coefficient computation\n",
    "scipy.stats.spearmanr(x, y)"
   ]
  }
 ],
 "metadata": {
  "kernelspec": {
   "display_name": "Python 2",
   "language": "python",
   "name": "python2"
  },
  "language_info": {
   "codemirror_mode": {
    "name": "ipython",
    "version": 2
   },
   "file_extension": ".py",
   "mimetype": "text/x-python",
   "name": "python",
   "nbconvert_exporter": "python",
   "pygments_lexer": "ipython2",
   "version": "2.7.15"
  }
 },
 "nbformat": 4,
 "nbformat_minor": 2
}
