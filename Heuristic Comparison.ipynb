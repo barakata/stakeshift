{
 "cells": [
  {
   "cell_type": "markdown",
   "metadata": {},
   "source": [
    "# Heuristic Evaluations"
   ]
  },
  {
   "cell_type": "code",
   "execution_count": 1,
   "metadata": {
    "collapsed": true
   },
   "outputs": [],
   "source": [
    "import blocksci\n",
    "import blocksci.cluster_python\n",
    "import matplotlib.pyplot as plt\n",
    "import matplotlib.ticker\n",
    "import collections\n",
    "import pandas as pd\n",
    "import numpy as np\n",
    "import calendar\n",
    "from datetime import datetime\n",
    "from copy import deepcopy\n",
    "from tqdm import tqdm_notebook\n",
    "from collections import defaultdict\n",
    "%matplotlib notebook"
   ]
  },
  {
   "cell_type": "code",
   "execution_count": null,
   "metadata": {
    "collapsed": true
   },
   "outputs": [],
   "source": [
    "# Load Bitcoin clusters\n",
    "clusters_fp_0 = blocksci.cluster_python.ClusterManager(\"/home/abdallah/bitcoin-data/clusters_h2_fp_0/\")"
   ]
  },
  {
   "cell_type": "code",
   "execution_count": null,
   "metadata": {
    "collapsed": true
   },
   "outputs": [],
   "source": [
    "# Compute FP Count\n",
    "fp_count = 0\n",
    "tot_count = 0\n",
    "for clstr in clusters_fp_0.clusters():\n",
    "    if len(clstr.scripts) > 1: \n",
    "        clstr_scripts = clstr.scripts\n",
    "        for i in range(0,len(clstr.scripts)):\n",
    "            if len(clstr_scripts[i].in_txes()) > 1:\n",
    "                fp_count += 1\n",
    "            tot_count +=1\n",
    "    else :\n",
    "        tot_count+=1"
   ]
  },
  {
   "cell_type": "code",
   "execution_count": null,
   "metadata": {
    "collapsed": true
   },
   "outputs": [],
   "source": [
    "clusters_h1 = blocksci.cluster_python.ClusterManager(\"/home/abdallah/bitcoin-data/clusters_h1/\")"
   ]
  },
  {
   "cell_type": "code",
   "execution_count": 11,
   "metadata": {
    "collapsed": true
   },
   "outputs": [],
   "source": [
    "clusters_h2 = blocksci.cluster_python.ClusterManager(\"/home/abdallah/bitcoin-data/clusters/\")"
   ]
  },
  {
   "cell_type": "code",
   "execution_count": 2,
   "metadata": {
    "collapsed": true
   },
   "outputs": [],
   "source": [
    "chain = blocksci.Blockchain(\"/home/abdallah/bitcoin-data\")"
   ]
  },
  {
   "cell_type": "code",
   "execution_count": null,
   "metadata": {
    "collapsed": true
   },
   "outputs": [],
   "source": [
    "ltc_chain = blocksci.Blockchain(\"/home/abdallah/litecoin-data\")"
   ]
  },
  {
   "cell_type": "code",
   "execution_count": null,
   "metadata": {
    "collapsed": true
   },
   "outputs": [],
   "source": [
    "# pay-to-public-key-hash\n",
    "addrs = blocksci.Address.with_prefix('1')[:10]"
   ]
  },
  {
   "cell_type": "code",
   "execution_count": null,
   "metadata": {
    "collapsed": true
   },
   "outputs": [],
   "source": [
    "ltc_addrs = blocksci.Address.address_count()"
   ]
  },
  {
   "cell_type": "code",
   "execution_count": null,
   "metadata": {
    "collapsed": true
   },
   "outputs": [],
   "source": [
    "multisigaddr = blocksci.Address.with_prefix('3')"
   ]
  },
  {
   "cell_type": "code",
   "execution_count": null,
   "metadata": {
    "collapsed": true
   },
   "outputs": [],
   "source": [
    "print(blocksci.heuristics.unique_change_by_address_reuse(chain[0][0]))"
   ]
  },
  {
   "cell_type": "markdown",
   "metadata": {},
   "source": [
    "# Cluster filtering"
   ]
  },
  {
   "cell_type": "code",
   "execution_count": null,
   "metadata": {
    "collapsed": true
   },
   "outputs": [],
   "source": [
    "clusters_h2.cluster_with_address(addrs[0]).scripts[0].script = 0"
   ]
  },
  {
   "cell_type": "markdown",
   "metadata": {},
   "source": [
    "# Evaluating Heuristics"
   ]
  },
  {
   "cell_type": "code",
   "execution_count": null,
   "metadata": {
    "collapsed": true
   },
   "outputs": [],
   "source": [
    "# Get Change Addresses\n",
    "change_addrs = dict()\n",
    "\n",
    "for block in tqdm_notebook(chain[:-10]):\n",
    "    for tx in block:\n",
    "        if (not tx.is_coinbase) and (not blocksci.heuristics.is_coinjoin(tx)):\n",
    "            if blocksci.heuristics.unique_change_by_address_reuse(tx) is None:# change_by_address_reuse(tx)\n",
    "#                 out = blocksci.heuristics.unique_change_by_client_change_address_behavior(tx)\n",
    "                out = blocksci.heuristics.unique_change_by_client_change_address_behavior_legacy(tx)\n",
    "#                 out = blocksci.heuristics.unique_change_by_locktime(tx)\n",
    "#                 out = blocksci.heuristics.unique_change_by_optimal_change(tx)\n",
    "#                 out = blocksci.heuristics.unique_change_by_peeling_chain(tx)\n",
    "#                 out = blocksci.heuristics.unique_change_by_power_of_ten_value(tx)\n",
    "#                 out = blocksci.heuristics.unique_change_by_script_type(tx)\n",
    "                if out is not None:\n",
    "                    if out.address not in change_addrs:\n",
    "                        change_addrs[out.address] = 1\n",
    "                    else:\n",
    "                        change_addrs[out.address] = change_addrs[out.address] + 1"
   ]
  },
  {
   "cell_type": "code",
   "execution_count": null,
   "metadata": {
    "collapsed": true
   },
   "outputs": [],
   "source": [
    "len(change_addrs)"
   ]
  },
  {
   "cell_type": "code",
   "execution_count": null,
   "metadata": {
    "collapsed": true
   },
   "outputs": [],
   "source": [
    "# Get Change Addresses\n",
    "change_addrs_main_h0 = dict()\n",
    "change_addrs_main_h1 = dict()\n",
    "change_addrs_main_h2 = dict()\n",
    "\n",
    "for block in tqdm_notebook(ltc_chain[:-10]):\n",
    "    for tx in block:\n",
    "        if (not tx.is_coinbase) and (not blocksci.heuristics.is_coinjoin(tx)):\n",
    "            if blocksci.heuristics.unique_change_by_address_reuse(tx) is None:# change_by_address_reuse(tx)\n",
    "#                 out = blocksci.heuristics.unique_change_by_client_change_address_behavior(tx)\n",
    "                out1 = blocksci.heuristics.unique_change_by_client_change_address_behavior_legacy(tx)\n",
    "#                 out = blocksci.heuristics.unique_change_by_locktime(tx)\n",
    "#                 out = blocksci.heuristics.unique_change_by_optimal_change(tx)\n",
    "                out2 = blocksci.heuristics.unique_change_by_peeling_chain(tx)\n",
    "#                 out = blocksci.heuristics.unique_change_by_power_of_ten_value(tx)\n",
    "                out3 = blocksci.heuristics.unique_change_by_script_type(tx)\n",
    "                if out1 is not None:\n",
    "                    if out1.address not in change_addrs_main_h0:\n",
    "                        change_addrs_main_h0[out1.address] = 1\n",
    "                    else:\n",
    "                        change_addrs_main_h0[out1.address] = change_addrs_main_h0[out1.address] + 1\n",
    "                if out2 is not None:\n",
    "                    if out2.address not in change_addrs_main_h1:\n",
    "                        change_addrs_main_h1[out2.address] = 1\n",
    "                    else:\n",
    "                        change_addrs_main_h1[out2.address] = change_addrs_main_h1[out2.address] + 1\n",
    "                if out3 is not None:\n",
    "                    if out3.address not in change_addrs_main_h2:\n",
    "                        change_addrs_main_h2[out3.address] = 1\n",
    "                    else:\n",
    "                        change_addrs_main_h2[out3.address] = change_addrs_main_h2[out3.address] + 1"
   ]
  },
  {
   "cell_type": "code",
   "execution_count": null,
   "metadata": {
    "collapsed": true
   },
   "outputs": [],
   "source": [
    "len(change_addrs_main_h0), len(change_addrs_main_h1), len(change_addrs_main_h2)"
   ]
  },
  {
   "cell_type": "code",
   "execution_count": null,
   "metadata": {
    "collapsed": true
   },
   "outputs": [],
   "source": [
    "# Get addresses in common regardless of definition and so FP\n",
    "len(list(set(change_addrs_main_h0.keys()) & set(change_addrs_main_h1.keys())))"
   ]
  },
  {
   "cell_type": "code",
   "execution_count": null,
   "metadata": {
    "collapsed": true
   },
   "outputs": [],
   "source": [
    "# Get addresses in common regardless of definition and so FP\n",
    "len(list(set(change_addrs_main_h0.keys()) & set(change_addrs_main_h2.keys())))"
   ]
  },
  {
   "cell_type": "code",
   "execution_count": null,
   "metadata": {
    "collapsed": true
   },
   "outputs": [],
   "source": [
    "# Get addresses in common regardless of definition and so FP\n",
    "len(list(set(change_addrs_main_h1.keys()) & set(change_addrs_main_h2.keys())))"
   ]
  },
  {
   "cell_type": "code",
   "execution_count": null,
   "metadata": {
    "collapsed": true
   },
   "outputs": [],
   "source": [
    "# Get addresses that are true to the definition (one input and more)\n",
    "h0 = [addr for addr in change_addrs_main_h0 if addr.in_txes_count() == 1]\n",
    "h1 = [addr for addr in change_addrs_main_h1 if addr.in_txes_count() == 1]\n",
    "h2 = [addr for addr in change_addrs_main_h2 if addr.in_txes_count() == 1]"
   ]
  },
  {
   "cell_type": "code",
   "execution_count": null,
   "metadata": {
    "collapsed": true
   },
   "outputs": [],
   "source": [
    "len(list(set(h0) & set(h1)))"
   ]
  },
  {
   "cell_type": "code",
   "execution_count": null,
   "metadata": {
    "collapsed": true
   },
   "outputs": [],
   "source": [
    "len(list(set(h1) & set(h2)))"
   ]
  },
  {
   "cell_type": "code",
   "execution_count": null,
   "metadata": {
    "collapsed": true
   },
   "outputs": [],
   "source": [
    "len(h2)"
   ]
  },
  {
   "cell_type": "code",
   "execution_count": null,
   "metadata": {
    "collapsed": true
   },
   "outputs": [],
   "source": [
    "blocksci.Address.with_prefix('1dice')"
   ]
  },
  {
   "cell_type": "code",
   "execution_count": null,
   "metadata": {
    "collapsed": true
   },
   "outputs": [],
   "source": [
    "in_t"
   ]
  },
  {
   "cell_type": "code",
   "execution_count": null,
   "metadata": {
    "collapsed": true
   },
   "outputs": [],
   "source": [
    "i =0 \n",
    "for addr in change_addrs:\n",
    "    print(addr.out_txes()[0].outs[1].address.script)\n",
    "    if i == 10:\n",
    "        break\n",
    "    i+=1"
   ]
  },
  {
   "cell_type": "code",
   "execution_count": null,
   "metadata": {
    "collapsed": true
   },
   "outputs": [],
   "source": [
    "blocksci.Address.with_prefix(\"LTaB\")"
   ]
  },
  {
   "cell_type": "code",
   "execution_count": null,
   "metadata": {
    "collapsed": true
   },
   "outputs": [],
   "source": [
    "# satoshi_dice_count = 0\n",
    "satoshi_bones_count = 0\n",
    "isBreak = False\n",
    "in_txes_count_list = []\n",
    "for adddr in tqdm_notebook(change_addrs):\n",
    "    in_txes_cnt = adddr.in_txes_count()\n",
    "    in_txes_count_list.append(in_txes_cnt)\n",
    "    if in_txes_cnt == 2:\n",
    "#         adr_in_txes = adddr.in_txes()\n",
    "        adr_out_txes = adddr.out_txes()\n",
    "        for out_tx in adr_out_txes:\n",
    "            for txout in out_tx.outs:\n",
    "#                 if str(txout.address.script)[:5] == \"1dice\":\n",
    "                if str(txout.address.script)[:6] == \"Lbones\":\n",
    "                    satoshi_bones_count +=1\n",
    "#                     satoshi_dice_count += 1\n",
    "                    isBreak = True\n",
    "                    break\n",
    "            if isBreak:\n",
    "                isBreak = False\n",
    "                break;\n",
    "            \n",
    "        #         elif str(adddr.in_txes()[1].ins[1].address.script)[:6] == \"1dice\":\n",
    "        #             print(idx)"
   ]
  },
  {
   "cell_type": "code",
   "execution_count": null,
   "metadata": {
    "collapsed": true
   },
   "outputs": [],
   "source": [
    "# satoshi_dice_count\n",
    "satoshi_bones_count"
   ]
  },
  {
   "cell_type": "code",
   "execution_count": null,
   "metadata": {
    "collapsed": true
   },
   "outputs": [],
   "source": [
    "fp_count"
   ]
  },
  {
   "cell_type": "code",
   "execution_count": null,
   "metadata": {
    "collapsed": true
   },
   "outputs": [],
   "source": [
    "str(change_addrs[2090000].script)[:6]"
   ]
  },
  {
   "cell_type": "code",
   "execution_count": null,
   "metadata": {
    "collapsed": true
   },
   "outputs": [],
   "source": [
    "change_addrs_ex_dice = [x for x in change_addrs if str(x.script)[:5] != \"1dice\"]"
   ]
  },
  {
   "cell_type": "code",
   "execution_count": null,
   "metadata": {
    "collapsed": true
   },
   "outputs": [],
   "source": [
    "change_addrs_ex_dice = [x for x in change_addrs if str(x.script)[:5] != \"1dice\"]"
   ]
  },
  {
   "cell_type": "code",
   "execution_count": null,
   "metadata": {
    "collapsed": true
   },
   "outputs": [],
   "source": [
    "len(change_addrs) - len(change_addrs_ex_dice) == dice_count"
   ]
  },
  {
   "cell_type": "code",
   "execution_count": null,
   "metadata": {
    "collapsed": true
   },
   "outputs": [],
   "source": [
    "# Get FP count\n",
    "fp_count = 0\n",
    "addrs = []\n",
    "in_txes_count_list = []\n",
    "\n",
    "for addr in tqdm_notebook(change_addrs):\n",
    "#     in_txes_count_var = len(addr.in_txes())\n",
    "    in_txes_count_var = addr.in_txes_count()\n",
    "    if in_txes_count_var > 1:\n",
    "        fp_count += 1\n",
    "        addrs.append(addr)\n",
    "        in_txes_count_list.append(in_txes_count_var)\n",
    "    \n",
    "        "
   ]
  },
  {
   "cell_type": "code",
   "execution_count": null,
   "metadata": {
    "collapsed": true
   },
   "outputs": [],
   "source": [
    "fp_count"
   ]
  },
  {
   "cell_type": "code",
   "execution_count": null,
   "metadata": {
    "collapsed": true
   },
   "outputs": [],
   "source": [
    "for adr in addrs:\n",
    "    print (str(adr.out_txes()[0].outs[1].address.script)[:6] == \"Lbones\")"
   ]
  },
  {
   "cell_type": "code",
   "execution_count": null,
   "metadata": {
    "collapsed": true
   },
   "outputs": [],
   "source": [
    "np.count_nonzero(np.array(in_txes_count_list) == 2)"
   ]
  },
  {
   "cell_type": "code",
   "execution_count": null,
   "metadata": {
    "collapsed": true
   },
   "outputs": [],
   "source": [
    "(fp_count -(np.count_nonzero(np.array(in_txes_count_list) == 2) + np.count_nonzero(np.array(in_txes_count_list) == 3))) / len(change_addrs) * 100"
   ]
  },
  {
   "cell_type": "code",
   "execution_count": null,
   "metadata": {
    "collapsed": true
   },
   "outputs": [],
   "source": [
    "for key, val in change_addrs.items():\n",
    "    if val > 1: \n",
    "        print (key.script,val)"
   ]
  },
  {
   "cell_type": "code",
   "execution_count": null,
   "metadata": {
    "collapsed": true
   },
   "outputs": [],
   "source": [
    "np.count_nonzero(np.array(in_txes_count_list) == 3) / len(in_txes_count_list)"
   ]
  },
  {
   "cell_type": "code",
   "execution_count": null,
   "metadata": {
    "collapsed": true
   },
   "outputs": [],
   "source": [
    "scripts = [str(chng.script) for chng in change_addrs]"
   ]
  },
  {
   "cell_type": "code",
   "execution_count": null,
   "metadata": {
    "collapsed": true
   },
   "outputs": [],
   "source": [
    "in_txes_count_list"
   ]
  },
  {
   "cell_type": "code",
   "execution_count": null,
   "metadata": {
    "collapsed": true
   },
   "outputs": [],
   "source": [
    "blocksci.Address.from_string('Lbones')"
   ]
  },
  {
   "cell_type": "code",
   "execution_count": null,
   "metadata": {
    "collapsed": true
   },
   "outputs": [],
   "source": [
    "len(blocksci.Address.from_string('Lbones1qycVcgaZLJ7YPu7vvX6ZLxkka4e').txes())"
   ]
  },
  {
   "cell_type": "code",
   "execution_count": null,
   "metadata": {
    "collapsed": true
   },
   "outputs": [],
   "source": [
    "inp_2_addrs = [addrs[idx] for idx, x in enumerate(in_txes_count_list) if x == 2]"
   ]
  },
  {
   "cell_type": "code",
   "execution_count": null,
   "metadata": {
    "collapsed": true
   },
   "outputs": [],
   "source": [
    "list(map(lambda x : str(x.script),inp_2_addrs))"
   ]
  },
  {
   "cell_type": "code",
   "execution_count": null,
   "metadata": {
    "collapsed": true
   },
   "outputs": [],
   "source": [
    "dice_count = 0\n",
    "for scr in scripts:\n",
    "    if scr[:5] == \"1dice\":\n",
    "        dice_count+=1"
   ]
  },
  {
   "cell_type": "code",
   "execution_count": null,
   "metadata": {
    "collapsed": true
   },
   "outputs": [],
   "source": [
    "(fp_count - 953274)/len(change_addrs) *100"
   ]
  },
  {
   "cell_type": "code",
   "execution_count": null,
   "metadata": {
    "collapsed": true
   },
   "outputs": [],
   "source": [
    "addrs[2005].script"
   ]
  },
  {
   "cell_type": "code",
   "execution_count": null,
   "metadata": {
    "collapsed": true
   },
   "outputs": [],
   "source": [
    "np.median(in_txes_count_list)"
   ]
  },
  {
   "cell_type": "code",
   "execution_count": null,
   "metadata": {
    "collapsed": true
   },
   "outputs": [],
   "source": [
    "from scipy import stats\n",
    "m = stats.mode(np.array(in_txes_count_list))\n",
    "print(m[1])"
   ]
  },
  {
   "cell_type": "code",
   "execution_count": null,
   "metadata": {
    "collapsed": true
   },
   "outputs": [],
   "source": [
    "print(m[0])"
   ]
  },
  {
   "cell_type": "code",
   "execution_count": null,
   "metadata": {
    "collapsed": true
   },
   "outputs": [],
   "source": [
    "np_in_txes_count_list = np.array(in_txes_count_list)"
   ]
  },
  {
   "cell_type": "code",
   "execution_count": null,
   "metadata": {
    "collapsed": true
   },
   "outputs": [],
   "source": [
    "fp_count_ex_2 = fp_count - np.count_nonzero(np_in_txes_count_list == 2)"
   ]
  },
  {
   "cell_type": "code",
   "execution_count": null,
   "metadata": {
    "collapsed": true
   },
   "outputs": [],
   "source": [
    "fp_count_ex_2"
   ]
  },
  {
   "cell_type": "code",
   "execution_count": null,
   "metadata": {
    "collapsed": true
   },
   "outputs": [],
   "source": [
    "in_txes_list_ex_2 = [x for x in in_txes_count_list if x != 2]"
   ]
  },
  {
   "cell_type": "code",
   "execution_count": null,
   "metadata": {
    "collapsed": true
   },
   "outputs": [],
   "source": [
    "np_in_txes_list_ex_2 = np.array(in_txes_list_ex_2)"
   ]
  },
  {
   "cell_type": "code",
   "execution_count": null,
   "metadata": {
    "collapsed": true
   },
   "outputs": [],
   "source": [
    "((len(in_txes_list_ex_2) - np.count_nonzero(np_in_txes_list_ex_2 == 3)) / len(change_addrs)) * 100"
   ]
  },
  {
   "cell_type": "code",
   "execution_count": null,
   "metadata": {
    "collapsed": true
   },
   "outputs": [],
   "source": [
    "in_txes_list_ex_3 = [x for x in in_txes_list_ex_2 if x != 3]"
   ]
  },
  {
   "cell_type": "code",
   "execution_count": null,
   "metadata": {
    "collapsed": true
   },
   "outputs": [],
   "source": [
    "np_in_txes_list_ex_3 = np.array(in_txes_list_ex_3)"
   ]
  },
  {
   "cell_type": "code",
   "execution_count": null,
   "metadata": {
    "collapsed": true
   },
   "outputs": [],
   "source": [
    "len(in_txes_list_ex_3)"
   ]
  },
  {
   "cell_type": "code",
   "execution_count": null,
   "metadata": {
    "collapsed": true
   },
   "outputs": [],
   "source": [
    "np.count_nonzero(np_in_txes_list_ex_3 == 12)"
   ]
  },
  {
   "cell_type": "code",
   "execution_count": null,
   "metadata": {
    "collapsed": true
   },
   "outputs": [],
   "source": [
    "np.histogram(in_txes_count_list)"
   ]
  },
  {
   "cell_type": "code",
   "execution_count": null,
   "metadata": {
    "collapsed": true
   },
   "outputs": [],
   "source": [
    "np.median(np_in_txes_list_ex_3)"
   ]
  },
  {
   "cell_type": "code",
   "execution_count": null,
   "metadata": {
    "collapsed": true
   },
   "outputs": [],
   "source": [
    "(fp_count / len(change_addrs)) * 100 "
   ]
  },
  {
   "cell_type": "code",
   "execution_count": null,
   "metadata": {
    "collapsed": true
   },
   "outputs": [],
   "source": [
    "np.max(np_in_txes_count_list)"
   ]
  },
  {
   "cell_type": "code",
   "execution_count": null,
   "metadata": {
    "collapsed": true
   },
   "outputs": [],
   "source": [
    "for x in np.unique(in_txes_count_list)[:1]:\n",
    "    print(x)"
   ]
  },
  {
   "cell_type": "code",
   "execution_count": null,
   "metadata": {
    "collapsed": true
   },
   "outputs": [],
   "source": [
    "np_list = np.array(in_txes_count_list)\n",
    "fp_counts_list = []\n",
    "for elem in np.unique(in_txes_count_list):\n",
    "    fp_counts_list.append(np.count_nonzero( np_list == elem))"
   ]
  },
  {
   "cell_type": "code",
   "execution_count": null,
   "metadata": {
    "collapsed": true
   },
   "outputs": [],
   "source": [
    "fig, axis1 = plt.subplots()\n",
    "li = list(np.unique(in_txes_count_list))\n",
    "x = range(len(li[:10]))\n",
    "\n",
    "axis1.bar(x, fp_counts_list[:10])\n",
    "axis1.set_xticklabels((\"2\", \"3\", \"4\", \"5\", \"6\", \"7\", \"8\", \"9\"))"
   ]
  },
  {
   "cell_type": "markdown",
   "metadata": {},
   "source": [
    "# Combining Heuristics"
   ]
  },
  {
   "cell_type": "code",
   "execution_count": null,
   "metadata": {
    "collapsed": true
   },
   "outputs": [],
   "source": [
    "# Get Change Addresses\n",
    "change_addrs_comb = dict()\n",
    "\n",
    "for block in tqdm_notebook(chain[:-10]):\n",
    "    for tx in block:\n",
    "        if (not tx.is_coinbase) and (not blocksci.heuristics.is_coinjoin(tx)):\n",
    "            if blocksci.heuristics.unique_change_by_address_reuse(tx) is None:# change_by_address_reuse(tx)\n",
    "                out_h0 = blocksci.heuristics.unique_change_by_client_change_address_behavior(tx)\n",
    "                out_h1 = blocksci.heuristics.unique_change_by_peeling_chain(tx)\n",
    "                if (out_h0 is not None) and (out_h1 is not None):\n",
    "#                     We pick out_h1 since if it's a peeling chain h1 is more accurate\n",
    "                    if out_h1.address not in change_addrs_comb:\n",
    "                        change_addrs_comb[out_h1.address] = 1\n",
    "                    else:\n",
    "                        change_addrs_comb[out_h1.address] = change_addrs_comb[out_h1.address] + 1\n",
    "                elif (out_h0 is not None) and (out_h1 is None):\n",
    "#                     We pick out_h0 \n",
    "                    if out_h0.address not in change_addrs_comb:\n",
    "                        change_addrs_comb[out_h0.address] = 1\n",
    "                    else:\n",
    "                        change_addrs_comb[out_h0.address] = change_addrs_comb[out_h0.address] + 1   \n",
    "#                 elif (out_h0 is None) and (out_h1 is not None):\n",
    "# #                     We pick out_h1 since if it's a peeling chain h1 is more accurate\n",
    "#                     if out_h1.address not in change_addrs_comb:\n",
    "#                         change_addrs_comb[out_h1.address] = 1\n",
    "#                     else:\n",
    "#                         change_addrs_comb[out_h1.address] = change_addrs_comb[out_h1.address] + 1\n",
    "                    \n",
    "#                 out = blocksci.heuristics.unique_change_by_locktime(tx)\n",
    "#                 out = blocksci.heuristics.unique_change_by_optimal_change(tx)\n",
    "#                 out = blocksci.heuristics.unique_change_by_peeling_chain(tx)\n",
    "#                 out = blocksci.heuristics.unique_change_by_power_of_ten_value(tx)\n",
    "#                 out = blocksci.heuristics.unique_change_by_script_type(tx)\n",
    "#                 if out is not None:\n",
    "#                     if out.address not in change_addrs_comb:\n",
    "#                         change_addrs_comb[out.address] = 1\n",
    "#                     else:\n",
    "#                         change_addrs_comb[out.address] = change_addrs_comb[out.address] + 1"
   ]
  },
  {
   "cell_type": "code",
   "execution_count": null,
   "metadata": {
    "collapsed": true
   },
   "outputs": [],
   "source": [
    "len(change_addrs_comb)"
   ]
  },
  {
   "cell_type": "code",
   "execution_count": null,
   "metadata": {
    "collapsed": true
   },
   "outputs": [],
   "source": [
    "# Get FP count\n",
    "fp_count = 0\n",
    "addrs = []\n",
    "in_txes_count_list = []\n",
    "\n",
    "for addr in tqdm_notebook(change_addrs_comb):\n",
    "    in_txes_count_var = len(addr.in_txes())\n",
    "#     in_txes_count_var = addr.in_txes_count()\n",
    "    if in_txes_count_var > 1:\n",
    "        fp_count += 1\n",
    "        addrs.append(addr)\n",
    "        in_txes_count_list.append(in_txes_count_var)\n",
    "    \n",
    "        "
   ]
  },
  {
   "cell_type": "code",
   "execution_count": null,
   "metadata": {
    "collapsed": true
   },
   "outputs": [],
   "source": [
    "fp_count"
   ]
  },
  {
   "cell_type": "code",
   "execution_count": null,
   "metadata": {
    "collapsed": true
   },
   "outputs": [],
   "source": [
    "(fp_count - np.count_nonzero(np.array(in_txes_count_list) ==2)) /len(change_addrs_comb) * 100"
   ]
  },
  {
   "cell_type": "markdown",
   "metadata": {},
   "source": [
    "# Getting stakes at point T1 (Naive)"
   ]
  },
  {
   "cell_type": "code",
   "execution_count": null,
   "metadata": {
    "collapsed": true
   },
   "outputs": [],
   "source": [
    "# V0.3 STAKES FETCHING\n",
    "T1 = calendar.timegm(datetime(2010,6,4).timetuple())\n",
    "T1_blocks = chain.filter_blocks(lambda x : x.timestamp < T1)\n",
    "stakes_t1 = []\n",
    "for addr in addrs:\n",
    "#     Balance is taken based on block height (hence length of filtered block list T1_blocks + 1 (Array indexing))\n",
    "    stakes_t1.append(addr.balance(len(T1_blocks) + 1))\n",
    "    "
   ]
  },
  {
   "cell_type": "markdown",
   "metadata": {},
   "source": [
    "# Getting stakes at point T2 (Naive)"
   ]
  },
  {
   "cell_type": "code",
   "execution_count": null,
   "metadata": {
    "collapsed": true
   },
   "outputs": [],
   "source": [
    "# V0.3 STAKES FETCHING\n",
    "T2 = calendar.timegm(datetime(2010,6,4).timetuple())\n",
    "T2_blocks = chain.filter_blocks(lambda x : x.timestamp < T2)\n",
    "stakes_t2 = []\n",
    "for addr in addrs:\n",
    "#     Balance is taken based on block height (hence length of filtered block list T1_blocks + 1 (Array indexing))\n",
    "    stakes_t2.append(addr.balance(len(T2_blocks) + 1))\n",
    "    "
   ]
  },
  {
   "cell_type": "markdown",
   "metadata": {},
   "source": [
    "# Getting stakes at point T1 (Heuristic 1)"
   ]
  },
  {
   "cell_type": "code",
   "execution_count": null,
   "metadata": {
    "collapsed": true
   },
   "outputs": [],
   "source": [
    "T1_h1 = calendar.timegm(datetime(2014,3,12).timetuple())\n",
    "T1_blocks_h1 = chain.filter_blocks(lambda x : x.timestamp < T1_h1)"
   ]
  },
  {
   "cell_type": "code",
   "execution_count": null,
   "metadata": {
    "collapsed": true
   },
   "outputs": [],
   "source": [
    "for blk in T1_blocks_h1[-317:-168]:\n",
    "    print (datetime.fromtimestamp(int(blk.timestamp)).strftime('%Y-%m-%d %H:%M:%S'))"
   ]
  },
  {
   "cell_type": "code",
   "execution_count": null,
   "metadata": {
    "collapsed": true
   },
   "outputs": [],
   "source": [
    "stakes_t1_h1 = []\n",
    "for cluster in tqdm_notebook(clusters_h1.clusters()):\n",
    "    sub_stake = []\n",
    "    for script in cluster.scripts:\n",
    "        for i in range(0,100):\n",
    "            sub_stake.append(script.balance((len(T1_blocks_h1) - 100) + i))\n",
    "    stakes_t1_h1.append(sub_stake)"
   ]
  },
  {
   "cell_type": "code",
   "execution_count": null,
   "metadata": {
    "collapsed": true
   },
   "outputs": [],
   "source": [
    "stakes_t1_h1"
   ]
  },
  {
   "cell_type": "markdown",
   "metadata": {},
   "source": [
    "# Getting stakes at point T2 (Heuristic 1)"
   ]
  },
  {
   "cell_type": "code",
   "execution_count": null,
   "metadata": {
    "collapsed": true
   },
   "outputs": [],
   "source": [
    "T2_h1 = calendar.timegm(datetime(2014,3,13).timetuple())\n",
    "T2_blocks_h1 = chain.filter_blocks(lambda x : x.timestamp < T2_h1)"
   ]
  },
  {
   "cell_type": "code",
   "execution_count": null,
   "metadata": {
    "collapsed": true,
    "scrolled": true
   },
   "outputs": [],
   "source": [
    "stakes_t2_h1 = []\n",
    "for cluster in tqdm_notebook(clusters_h1.clusters()):\n",
    "    sub_stake = 0\n",
    "    for script in cluster.scripts:\n",
    "        sub_stake += script.balance(len(T2_blocks_h1) + 1)\n",
    "    stakes_t2_h1.append(sub_stake)"
   ]
  },
  {
   "cell_type": "code",
   "execution_count": null,
   "metadata": {
    "collapsed": true
   },
   "outputs": [],
   "source": [
    "del sub_stake"
   ]
  },
  {
   "cell_type": "code",
   "execution_count": null,
   "metadata": {
    "collapsed": true
   },
   "outputs": [],
   "source": [
    "# Compute stakes in terms of probabilities\n",
    "p_stakes = np.array(stakes_t1_h1) / np.sum(stakes_t1_h1)\n",
    "p_stakes2 = np.array(stakes_t2_h1) / np.sum(stakes_t2_h1)"
   ]
  },
  {
   "cell_type": "code",
   "execution_count": null,
   "metadata": {
    "collapsed": true
   },
   "outputs": [],
   "source": [
    "# Compute the statistical distance\n",
    "stat_dist = 0.5 * np.sum(np.absolute(np.array(p_stakes) - np.array(p_stakes2)))"
   ]
  },
  {
   "cell_type": "code",
   "execution_count": null,
   "metadata": {
    "collapsed": true
   },
   "outputs": [],
   "source": [
    "stat_dist"
   ]
  },
  {
   "cell_type": "code",
   "execution_count": null,
   "metadata": {
    "collapsed": true
   },
   "outputs": [],
   "source": [
    "x = range(len(stakes_t1_h1))\n",
    "df = pd.DataFrame({\"Stakes at T1\": np.array(stakes_t1_h1)/1e8 }, index=x)\n",
    "ax = df.plot(legend=False)\n",
    "ax.set_ylim(0)\n",
    "ax.set_title(\"Stakes at time T1\")\n",
    "ax.set_xlabel(\"Address number\")\n",
    "# ax.set_yscale(\"log\",nonposy=\"clip\")\n",
    "ax.set_ylabel(\"Stake in BTC\")"
   ]
  },
  {
   "cell_type": "code",
   "execution_count": null,
   "metadata": {
    "collapsed": true
   },
   "outputs": [],
   "source": [
    "# x = range(len(stakes_t2_h1))\n",
    "df = pd.DataFrame({\"Stakes at T2\": np.array(stakes_t2_h1)/1e8 }, index=x)\n",
    "ax = df.plot(legend=False)\n",
    "ax.set_ylim(0)\n",
    "ax.set_title(\"Stakes at time T2\")\n",
    "ax.set_xlabel(\"Address number\")\n",
    "# ax.set_yscale(\"log\",nonposy=\"clip\")\n",
    "ax.set_ylabel(\"Stake in BTC\")"
   ]
  },
  {
   "cell_type": "code",
   "execution_count": 3,
   "metadata": {},
   "outputs": [
    {
     "data": {
      "application/vnd.jupyter.widget-view+json": {
       "model_id": "aaaed6be08d448dbb7e3b93096e29e07",
       "version_major": 2,
       "version_minor": 0
      },
      "text/html": [
       "<p>Failed to display Jupyter Widget of type <code>HBox</code>.</p>\n",
       "<p>\n",
       "  If you're reading this message in the Jupyter Notebook or JupyterLab Notebook, it may mean\n",
       "  that the widgets JavaScript is still loading. If this message persists, it\n",
       "  likely means that the widgets JavaScript library is either not installed or\n",
       "  not enabled. See the <a href=\"https://ipywidgets.readthedocs.io/en/stable/user_install.html\">Jupyter\n",
       "  Widgets Documentation</a> for setup instructions.\n",
       "</p>\n",
       "<p>\n",
       "  If you're reading this message in another frontend (for example, a static\n",
       "  rendering on GitHub or <a href=\"https://nbviewer.jupyter.org/\">NBViewer</a>),\n",
       "  it may mean that your frontend doesn't currently support widgets.\n",
       "</p>\n"
      ],
      "text/plain": [
       "HBox(children=(IntProgress(value=0, max=290546), HTML(value='')))"
      ]
     },
     "metadata": {},
     "output_type": "display_data"
    },
    {
     "name": "stdout",
     "output_type": "stream",
     "text": [
      "\n"
     ]
    }
   ],
   "source": [
    "# Get Change Addresses\n",
    "change_addrs = dict()\n",
    "for block in tqdm_notebook(chain[:-10]):\n",
    "    for tx in block:\n",
    "        if (not tx.is_coinbase) and (not blocksci.heuristics.is_coinjoin(tx)):\n",
    "            if blocksci.heuristics.unique_change_by_address_reuse(tx) is None:\n",
    "                out = blocksci.heuristics.unique_change_by_client_change_address_behavior_legacy(tx)\n",
    "                if out is not None:\n",
    "                    if out.address not in change_addrs:\n",
    "                        change_addrs[out.address] = 1\n",
    "                    else:\n",
    "                        change_addrs[out.address] = change_addrs[out.address] + 1"
   ]
  },
  {
   "cell_type": "code",
   "execution_count": 7,
   "metadata": {},
   "outputs": [
    {
     "data": {
      "application/vnd.jupyter.widget-view+json": {
       "model_id": "de1373f81b3a4289923c8019932320f5",
       "version_major": 2,
       "version_minor": 0
      },
      "text/html": [
       "<p>Failed to display Jupyter Widget of type <code>HBox</code>.</p>\n",
       "<p>\n",
       "  If you're reading this message in the Jupyter Notebook or JupyterLab Notebook, it may mean\n",
       "  that the widgets JavaScript is still loading. If this message persists, it\n",
       "  likely means that the widgets JavaScript library is either not installed or\n",
       "  not enabled. See the <a href=\"https://ipywidgets.readthedocs.io/en/stable/user_install.html\">Jupyter\n",
       "  Widgets Documentation</a> for setup instructions.\n",
       "</p>\n",
       "<p>\n",
       "  If you're reading this message in another frontend (for example, a static\n",
       "  rendering on GitHub or <a href=\"https://nbviewer.jupyter.org/\">NBViewer</a>),\n",
       "  it may mean that your frontend doesn't currently support widgets.\n",
       "</p>\n"
      ],
      "text/plain": [
       "HBox(children=(IntProgress(value=0, max=12073595), HTML(value='')))"
      ]
     },
     "metadata": {},
     "output_type": "display_data"
    },
    {
     "name": "stdout",
     "output_type": "stream",
     "text": [
      "\n"
     ]
    },
    {
     "name": "stderr",
     "output_type": "stream",
     "text": [
      "Exception in thread Thread-6:\n",
      "Traceback (most recent call last):\n",
      "  File \"/usr/lib/python3.5/threading.py\", line 914, in _bootstrap_inner\n",
      "    self.run()\n",
      "  File \"/usr/local/lib/python3.5/dist-packages/tqdm/_tqdm.py\", line 144, in run\n",
      "    for instance in self.tqdm_cls._instances:\n",
      "  File \"/usr/lib/python3.5/_weakrefset.py\", line 60, in __iter__\n",
      "    for itemref in self.data:\n",
      "RuntimeError: Set changed size during iteration\n",
      "\n"
     ]
    },
    {
     "name": "stdout",
     "output_type": "stream",
     "text": [
      "\n"
     ]
    }
   ],
   "source": [
    "falsePositives = dict()\n",
    "for adddr in tqdm_notebook(change_addrs):\n",
    "    in_txes_cnt = adddr.in_txes_count()\n",
    "    if in_txes_cnt > 2:\n",
    "        falsePositives[adddr.script] = 1"
   ]
  },
  {
   "cell_type": "code",
   "execution_count": 8,
   "metadata": {
    "collapsed": true
   },
   "outputs": [],
   "source": [
    "del change_addrs"
   ]
  },
  {
   "cell_type": "code",
   "execution_count": 17,
   "metadata": {
    "collapsed": true
   },
   "outputs": [],
   "source": [
    "# Final Stake Computation Function\n",
    "def computeStakes(stakes_list, clusters, falsePositives, heights):\n",
    "    for cluster in tqdm_notebook(clusters):\n",
    "        sub_stake = []\n",
    "        for height in heights:\n",
    "            stake = 0\n",
    "            for script in cluster.scripts:\n",
    "                if script not in falsePositives:\n",
    "                    stake += script.balance(height)\n",
    "            sub_stake.append(stake)\n",
    "        stakes_list.append(sub_stake)\n",
    "    for fp in falsePositives:\n",
    "        sub_stake = []\n",
    "        for height in heights:\n",
    "            sub_stake.append(fp.balance(height))\n",
    "        stakes_list.append(sub_stake)"
   ]
  },
  {
   "cell_type": "markdown",
   "metadata": {},
   "source": [
    "# Get yearly stake shifts"
   ]
  },
  {
   "cell_type": "code",
   "execution_count": 31,
   "metadata": {},
   "outputs": [
    {
     "name": "stdout",
     "output_type": "stream",
     "text": [
      "2010\n",
      "2011\n",
      "2012\n",
      "2013\n",
      "2014\n"
     ]
    }
   ],
   "source": [
    "# Get heights of blocks for yearly stake shift computation\n",
    "T = calendar.timegm(datetime(2014,2,1).timetuple())\n",
    "T_blocks_year = chain.filter_blocks(lambda x : x.timestamp < T)\n",
    "heights = []\n",
    "dates = [2010,2011,2012,2013,2014]\n",
    "for blk in T_blocks_year:\n",
    "    if blk.time.year == dates[0]:\n",
    "        print(blk.time.year)\n",
    "        heights.append(blk.height)\n",
    "        del dates[0]\n",
    "        if len(dates) == 0:\n",
    "            break;"
   ]
  },
  {
   "cell_type": "code",
   "execution_count": 43,
   "metadata": {},
   "outputs": [
    {
     "data": {
      "application/vnd.jupyter.widget-view+json": {
       "model_id": "e81add25b0e84804bb54b59bac327f64",
       "version_major": 2,
       "version_minor": 0
      },
      "text/html": [
       "<p>Failed to display Jupyter Widget of type <code>HBox</code>.</p>\n",
       "<p>\n",
       "  If you're reading this message in the Jupyter Notebook or JupyterLab Notebook, it may mean\n",
       "  that the widgets JavaScript is still loading. If this message persists, it\n",
       "  likely means that the widgets JavaScript library is either not installed or\n",
       "  not enabled. See the <a href=\"https://ipywidgets.readthedocs.io/en/stable/user_install.html\">Jupyter\n",
       "  Widgets Documentation</a> for setup instructions.\n",
       "</p>\n",
       "<p>\n",
       "  If you're reading this message in another frontend (for example, a static\n",
       "  rendering on GitHub or <a href=\"https://nbviewer.jupyter.org/\">NBViewer</a>),\n",
       "  it may mean that your frontend doesn't currently support widgets.\n",
       "</p>\n"
      ],
      "text/plain": [
       "HBox(children=(IntProgress(value=0, max=5667399), HTML(value='')))"
      ]
     },
     "metadata": {},
     "output_type": "display_data"
    },
    {
     "name": "stdout",
     "output_type": "stream",
     "text": [
      "\n"
     ]
    }
   ],
   "source": [
    "# # Yearly Stakes using Cluster_h1 technique\n",
    "# stakes_t_year = []\n",
    "# for cluster in tqdm_notebook(clusters_h1.clusters()):\n",
    "#     sub_stake = []\n",
    "#     for height in heights:\n",
    "#         stake = 0\n",
    "#         for script in cluster.scripts:\n",
    "#             stake += script.balance(height)\n",
    "#         sub_stake.append(stake)\n",
    "#     stakes_t_year.append(sub_stake)\n",
    "stakes_t_year = []\n",
    "computeStakes(stakes_t_year, clusters_h2.clusters(),falsePositives, heights)"
   ]
  },
  {
   "cell_type": "code",
   "execution_count": 44,
   "metadata": {},
   "outputs": [
    {
     "data": {
      "text/plain": [
       "([0, 1000000, 1000000, 1000000, 1000000],\n",
       " [32490, 100410, 160037, 214563, 277996])"
      ]
     },
     "execution_count": 44,
     "metadata": {},
     "output_type": "execute_result"
    }
   ],
   "source": [
    "stakes_t_year[0], heights"
   ]
  },
  {
   "cell_type": "code",
   "execution_count": 45,
   "metadata": {
    "collapsed": true
   },
   "outputs": [],
   "source": [
    "# Compute stakes in terms of probabilities\n",
    "p_stakes = []\n",
    "for i in range(0,len(heights)):\n",
    "    stake = list(map(lambda x : x[i], stakes_t_year))\n",
    "    p_stakes.append(np.array(stake) / np.sum(stake))"
   ]
  },
  {
   "cell_type": "code",
   "execution_count": 46,
   "metadata": {},
   "outputs": [
    {
     "data": {
      "text/plain": [
       "5"
      ]
     },
     "execution_count": 46,
     "metadata": {},
     "output_type": "execute_result"
    }
   ],
   "source": [
    "len(p_stakes)"
   ]
  },
  {
   "cell_type": "code",
   "execution_count": 47,
   "metadata": {
    "collapsed": true
   },
   "outputs": [],
   "source": [
    "# Compute the statistical distance\n",
    "stat_dists = []\n",
    "for i in range(0, len(heights) -1):\n",
    "    stat_dists.append(0.5 * np.sum(np.absolute(np.array(p_stakes[i]) - np.array(p_stakes[i+1]))))"
   ]
  },
  {
   "cell_type": "code",
   "execution_count": 48,
   "metadata": {},
   "outputs": [
    {
     "data": {
      "text/plain": [
       "[0.6773418296983338,\n",
       " 0.6220228313460237,\n",
       " 0.39680203476333525,\n",
       " 0.49153269675575334]"
      ]
     },
     "execution_count": 48,
     "metadata": {},
     "output_type": "execute_result"
    }
   ],
   "source": [
    "stat_dists"
   ]
  },
  {
   "cell_type": "code",
   "execution_count": null,
   "metadata": {
    "collapsed": true
   },
   "outputs": [],
   "source": [
    "del stakes_t1_h1"
   ]
  },
  {
   "cell_type": "code",
   "execution_count": 23,
   "metadata": {},
   "outputs": [
    {
     "data": {
      "text/plain": [
       "Text(0,0.5,'Stake in BTC')"
      ]
     },
     "execution_count": 23,
     "metadata": {},
     "output_type": "execute_result"
    },
    {
     "data": {
      "image/png": "[encoded data removed]",
      "text/plain": [
       "<matplotlib.figure.Figure at 0x7f319171ae48>"
      ]
     },
     "metadata": {},
     "output_type": "display_data"
    }
   ],
   "source": [
    "x = range(len(p_stakes[0]))\n",
    "df = pd.DataFrame({\"Stakes at T1\": p_stakes[0] }, index=x)\n",
    "ax = df.plot(legend=False)\n",
    "ax.set_ylim(0)\n",
    "ax.set_title(\"Stakes distribution at time T1\")\n",
    "ax.set_xlabel(\"Address number\")\n",
    "# ax.set_yscale(\"log\",nonposy=\"clip\")\n",
    "ax.set_ylabel(\"Stake in BTC\")\n",
    "# 2010"
   ]
  },
  {
   "cell_type": "code",
   "execution_count": null,
   "metadata": {
    "collapsed": true
   },
   "outputs": [],
   "source": [
    "x = range(len(p_stakes_h2[0]))\n",
    "df = pd.DataFrame({\"Stakes at T3\": p_stakes_h2[3] }, index=x)\n",
    "ax = df.plot(legend=False)\n",
    "ax.set_ylim(0)\n",
    "ax.set_title(\"Stakes distribution at time T4 H2\")\n",
    "ax.set_xlabel(\"Address number\")\n",
    "# ax.set_yscale(\"log\",nonposy=\"clip\")\n",
    "ax.set_ylabel(\"Stake in BTC\")\n",
    "# 2012"
   ]
  },
  {
   "cell_type": "code",
   "execution_count": null,
   "metadata": {
    "collapsed": true
   },
   "outputs": [],
   "source": [
    "# Yearly Stakes using Cluster_h2 technique\n",
    "stakes_t_year_h2 = []\n",
    "for cluster in tqdm_notebook(clusters_h2.clusters()):\n",
    "    sub_stake = []\n",
    "    for height in heights:\n",
    "        stake = 0\n",
    "        for script in cluster.scripts:\n",
    "            stake += script.balance(height)\n",
    "        sub_stake.append(stake)\n",
    "    stakes_t_year_h2.append(sub_stake)"
   ]
  },
  {
   "cell_type": "code",
   "execution_count": null,
   "metadata": {
    "collapsed": true
   },
   "outputs": [],
   "source": [
    "# Compute stakes in terms of probabilities\n",
    "p_stakes_h2 = []\n",
    "for i in range(0,len(heights)):\n",
    "    stake = list(map(lambda x : x[i], stakes_t_year_h2))\n",
    "    p_stakes_h2.append(np.array(stake) / np.sum(stake))"
   ]
  },
  {
   "cell_type": "code",
   "execution_count": null,
   "metadata": {
    "collapsed": true
   },
   "outputs": [],
   "source": [
    "# Compute the statistical distance\n",
    "stat_dists_h2 = []\n",
    "for i in range(0, len(heights) -1):\n",
    "    stat_dists_h2.append(0.5 * np.sum(np.absolute(np.array(p_stakes_h2[i]) - np.array(p_stakes_h2[i+1]))))"
   ]
  },
  {
   "cell_type": "code",
   "execution_count": null,
   "metadata": {
    "collapsed": true
   },
   "outputs": [],
   "source": [
    "stat_dists_h2"
   ]
  },
  {
   "cell_type": "markdown",
   "metadata": {},
   "source": [
    "# Get monthly stake shifts"
   ]
  },
  {
   "cell_type": "code",
   "execution_count": null,
   "metadata": {
    "collapsed": true
   },
   "outputs": [],
   "source": [
    "# Get heights of blocks for monthly stake shift computation\n",
    "T1 = calendar.timegm(datetime(2012,12,31).timetuple())\n",
    "T2 = calendar.timegm(datetime(2014,1,1).timetuple())\n",
    "T_blocks_month = chain.filter_blocks(lambda x : x.timestamp > T1 and x.timestamp < T2)\n",
    "heights = []\n",
    "months = list(range(1,13))\n",
    "for blk in T_blocks_month:\n",
    "    if blk.time.month == months[0]:\n",
    "        heights.append(blk.height)\n",
    "        del months[0]\n",
    "        if len(months) == 0:\n",
    "            break;"
   ]
  },
  {
   "cell_type": "code",
   "execution_count": null,
   "metadata": {
    "collapsed": true
   },
   "outputs": [],
   "source": [
    "# Montlhy Stakes using Cluster_h1 technique\n",
    "stakes_t_month_h1 = []\n",
    "for cluster in tqdm_notebook(clusters_h1.clusters()):\n",
    "    sub_stake = []\n",
    "    for height in heights:\n",
    "        stake = 0\n",
    "        for script in cluster.scripts:\n",
    "            stake += script.balance(height)\n",
    "        sub_stake.append(stake)\n",
    "    stakes_t_month_h1.append(sub_stake)"
   ]
  },
  {
   "cell_type": "code",
   "execution_count": null,
   "metadata": {
    "collapsed": true
   },
   "outputs": [],
   "source": [
    "# Monthly Stakes using Cluster_h2 technique\n",
    "stakes_t_month_h2 = []\n",
    "for cluster in tqdm_notebook(clusters_h2.clusters()):\n",
    "    sub_stake = []\n",
    "    for height in heights:\n",
    "        stake = 0\n",
    "        for script in cluster.scripts:\n",
    "            stake += script.balance(height)\n",
    "        sub_stake.append(stake)\n",
    "    stakes_t_month_h2.append(sub_stake)"
   ]
  },
  {
   "cell_type": "code",
   "execution_count": null,
   "metadata": {
    "collapsed": true
   },
   "outputs": [],
   "source": [
    "# Compute stakes in terms of probabilities\n",
    "p_stakes_month_h2 = []\n",
    "for i in range(0,len(heights)):\n",
    "    stake = list(map(lambda x : x[i], stakes_t_month_h2))\n",
    "    p_stakes_month_h2.append(np.array(stake) / np.sum(stake))"
   ]
  },
  {
   "cell_type": "code",
   "execution_count": null,
   "metadata": {
    "collapsed": true
   },
   "outputs": [],
   "source": [
    "# Compute the statistical distance\n",
    "stat_dists_month_h2 = []\n",
    "for i in range(0, len(heights) -1):\n",
    "    stat_dists_month_h2.append(0.5 * np.sum(np.absolute(np.array(p_stakes_month_h2[i]) - np.array(p_stakes_month_h2[i+1]))))"
   ]
  },
  {
   "cell_type": "code",
   "execution_count": null,
   "metadata": {
    "collapsed": true
   },
   "outputs": [],
   "source": [
    "btc_prices_loc = os.path.join(os.getcwd(),'btc-2013.csv')\n",
    "btc_prices = pd.read_csv(btc_prices_loc)\n"
   ]
  },
  {
   "cell_type": "code",
   "execution_count": null,
   "metadata": {
    "collapsed": true
   },
   "outputs": [],
   "source": [
    "btc_prices.head(3).index[1]"
   ]
  },
  {
   "cell_type": "code",
   "execution_count": null,
   "metadata": {
    "collapsed": true
   },
   "outputs": [],
   "source": [
    "datetime.strptime(btc_prices.head(1)['Date'][0],'%Y-%m-%d %X').month"
   ]
  },
  {
   "cell_type": "code",
   "execution_count": null,
   "metadata": {
    "collapsed": true
   },
   "outputs": [],
   "source": [
    "for lel in btc_prices['Date']:\n",
    "    print(lel."
   ]
  },
  {
   "cell_type": "code",
   "execution_count": null,
   "metadata": {
    "collapsed": true
   },
   "outputs": [],
   "source": [
    "months = list(range(1,13))\n",
    "idxes = []\n",
    "for index, row in btc_prices.iterrows():\n",
    "    if datetime.strptime(row['Date'],'%Y-%m-%d %X').month == months[0]:\n",
    "        idxes.append(index)\n",
    "        del months[0]\n",
    "        if len(months) == 0:\n",
    "            break;"
   ]
  },
  {
   "cell_type": "code",
   "execution_count": null,
   "metadata": {
    "collapsed": true
   },
   "outputs": [],
   "source": [
    "import os \n",
    "\n",
    "mod_stat_dists = deepcopy(stat_dists_month_h2)\n",
    "mod_stat_dists.insert(0,0)\n",
    "x = range(len(mod_stat_dists))\n",
    "x2 = range(12)\n",
    "# df = pd.DataFrame({\"Stakes at T3\": stat_dists_month_h2 }, index=x)\n",
    "\n",
    "btc_prices_loc = os.path.join(os.getcwd(),'btc-2013.csv')\n",
    "btc_prices = pd.read_csv(btc_prices_loc)\n",
    "# btc_prices.iloc[idxes]['Close Price']\n",
    "\n",
    "df2 = pd.DataFrame({\"BTC price\": list(btc_prices.iloc[idxes]['Close Price']) }, index=x2)\n",
    "# btc_prices.iloc[idxes]\n",
    "# df2\n",
    "\n",
    "fig, axis1 = plt.subplots()\n",
    "\n",
    "axis2 = axis1.twinx()\n",
    "axis1.bar(x, mod_stat_dists)\n",
    "axis1.set_ylabel(\"Stake shift\")\n",
    "# axis2.plot(df2,'red')\n",
    "# axis2.set_ylabel(\"BTC price in $\")\n",
    "# axis2.set_xticks((x2))\n",
    "axis2.grid(b=False)\n",
    "axis1.set_xticks(range(len(mod_stat_dists)))\n",
    "axis1.set_xticklabels((\"Jan\",\"Jan - Feb\", \"Feb-Mar\",\"Mar-April\", \"April-May\", \"May-June\", \"June-July\", \"July-Aug\", \"Aug-Sept\",\"Sept-Oct\",\"Oct-Nov\",\"Nov-Dec\"),rotation=45,ha=\"right\")\n",
    "btc_price_handle = matplotlib.patches.Patch(color='red',label='BTC price in $')\n",
    "stake_shift_handle = matplotlib.patches.Patch(color='C0',label='Stake shift')\n",
    "fig.legend(handles=[btc_price_handle,stake_shift_handle])\n",
    "# axis2.set_ylim(0)\n",
    "# # btc_prices.head()\n",
    "\n",
    "# ax = df.plot(legend=False)\n",
    "# ax.set_ylim(0)\n",
    "# ax.set_title(\"Stake shift between months in 2013\")\n",
    "# ax.set_xlabel(\"Address number\")\n",
    "# # ax.set_xticks(\"1\",\"2\",\"3\",\"4\",\"5\",\"6\",\"7\",\"8\",\"9\",\"10\",\"11\")\n",
    "\n",
    "# ax.set_xticks(range(len(stat_dists_month_h2)))\n",
    "# ax.set_xticklabels((\"Jan - Feb\", \"Feb-Mar\",\"Mar-April\", \"April-May\", \"May-June\", \"June-July\", \"July-Aug\", \"Aug-Sept\",\"Sept-Oct\",\"Oct-Nov\",\"Nov-Dec\"),rotation=45,ha=\"right\")\n",
    "# # ax.set_yscale(\"log\",nonposy=\"clip\")\n",
    "# ax.set_ylabel(\"Stake shift\")\n",
    "# ax.autoscale()\n",
    "\n",
    "# btc_prices.plot(ax=ax)"
   ]
  },
  {
   "cell_type": "markdown",
   "metadata": {},
   "source": [
    "# Get weekly stake shifts"
   ]
  },
  {
   "cell_type": "code",
   "execution_count": null,
   "metadata": {
    "collapsed": true
   },
   "outputs": [],
   "source": [
    "# Get heights of blocks for weekly stake shift computation\n",
    "T1 = calendar.timegm(datetime(2012,12,31).timetuple())\n",
    "T2 = calendar.timegm(datetime(2014,1,1).timetuple())\n",
    "T_blocks_month = chain.filter_blocks(lambda x : x.timestamp > T1 and x.timestamp < T2)\n",
    "heights = []\n",
    "weeks = [1,8,15,22,29]\n",
    "months = [8,9] # Get stakes for every week of months\n",
    "\n",
    "for blk in T_blocks_month:\n",
    "    if blk.time.month == months[0]:\n",
    "        if blk.time.day == weeks[0]:\n",
    "            heights.append(blk.height)\n",
    "            del weeks[0]\n",
    "            if len(weeks) == 0:\n",
    "                del months[0]\n",
    "                weeks = [1,8,15,22,29]\n",
    "                if len(months) == 0:\n",
    "                    break;"
   ]
  },
  {
   "cell_type": "code",
   "execution_count": null,
   "metadata": {
    "collapsed": true
   },
   "outputs": [],
   "source": [
    "for blk in T_blocks_month:\n",
    "    for h in heights : \n",
    "        if blk.height == h:\n",
    "            print(blk.time)"
   ]
  },
  {
   "cell_type": "code",
   "execution_count": null,
   "metadata": {
    "collapsed": true
   },
   "outputs": [],
   "source": [
    "# Weekly Stakes using Cluster_h2 technique\n",
    "stakes_t_weeks_h2 = []\n",
    "for cluster in tqdm_notebook(clusters_h2.clusters()):\n",
    "    sub_stake = []\n",
    "    for height in heights:\n",
    "        stake = 0\n",
    "        for script in cluster.scripts:\n",
    "            stake += script.balance(height)\n",
    "        sub_stake.append(stake)\n",
    "    stakes_t_weeks_h2.append(sub_stake)"
   ]
  },
  {
   "cell_type": "code",
   "execution_count": null,
   "metadata": {
    "collapsed": true
   },
   "outputs": [],
   "source": [
    "# Compute stakes in terms of probabilities\n",
    "p_stakes_week_h2 = []\n",
    "for i in range(0,len(heights)):\n",
    "    stake = list(map(lambda x : x[i], stakes_t_weeks_h2))\n",
    "    p_stakes_week_h2.append(np.array(stake) / np.sum(stake))"
   ]
  },
  {
   "cell_type": "code",
   "execution_count": null,
   "metadata": {
    "collapsed": true
   },
   "outputs": [],
   "source": [
    "len(p_stakes_week_h2)"
   ]
  },
  {
   "cell_type": "code",
   "execution_count": null,
   "metadata": {
    "collapsed": true
   },
   "outputs": [],
   "source": [
    "# Compute the statistical distance\n",
    "stat_dists_week_h2 = []\n",
    "for i in range(0, len(heights) -1):\n",
    "    stat_dists_week_h2.append(0.5 * np.sum(np.absolute(np.array(p_stakes_week_h2[i]) - np.array(p_stakes_week_h2[i+1]))))"
   ]
  },
  {
   "cell_type": "code",
   "execution_count": null,
   "metadata": {
    "collapsed": true
   },
   "outputs": [],
   "source": [
    "stat_dists_week_h2"
   ]
  },
  {
   "cell_type": "code",
   "execution_count": null,
   "metadata": {
    "collapsed": true
   },
   "outputs": [],
   "source": [
    "import os \n",
    "btc_prices_loc = os.path.join(os.getcwd(),'btc-2013.csv')\n",
    "btc_prices = pd.read_csv(btc_prices_loc)"
   ]
  },
  {
   "cell_type": "code",
   "execution_count": null,
   "metadata": {
    "collapsed": true
   },
   "outputs": [],
   "source": [
    "# Get BTC price for these weeks\n",
    "idxes = []\n",
    "weeks = [1,8,15,22,29]\n",
    "months = [8,9] # Get stakes for every week of months\n",
    "for index, row in btc_prices.iterrows():\n",
    "    row_date = datetime.strptime(row['Date'],'%Y-%m-%d %X')\n",
    "    if row_date.month == months[0]:\n",
    "        if row_date.day == weeks[0]:\n",
    "            idxes.append(index)\n",
    "            del weeks[0]\n",
    "            if len(weeks) == 0:\n",
    "                del months[0]\n",
    "                weeks = [1,8,15,22,29]\n",
    "                if len(months) == 0:\n",
    "                    break;"
   ]
  },
  {
   "cell_type": "code",
   "execution_count": null,
   "metadata": {
    "collapsed": true
   },
   "outputs": [],
   "source": [
    "weekly_btc_price_10_11 = list(btc_prices.iloc[idxes]['Close Price'])\n",
    "# Compute the statistical distance\n",
    "abs_price_diff = []\n",
    "for i in range(0, len(weekly_btc_price_10_11) -1):\n",
    "    abs_price_diff.append(np.absolute(weekly_btc_price_10_11[i] - weekly_btc_price_10_11[i+1]))"
   ]
  },
  {
   "cell_type": "code",
   "execution_count": null,
   "metadata": {
    "collapsed": true
   },
   "outputs": [],
   "source": [
    "btc_prices.iloc[idxes]"
   ]
  },
  {
   "cell_type": "code",
   "execution_count": null,
   "metadata": {
    "collapsed": true
   },
   "outputs": [],
   "source": [
    "del stat_dists_week_h2[4]\n",
    "del abs_price_diff[4]"
   ]
  },
  {
   "cell_type": "code",
   "execution_count": null,
   "metadata": {
    "collapsed": true
   },
   "outputs": [],
   "source": [
    "import os \n",
    "\n",
    "# mod_stat_dists = deepcopy(stat_dists_week_h2)\n",
    "# mod_stat_dists.insert(0,0)\n",
    "x = range(len(stat_dists_week_h2[0:4]))\n",
    "x2 = range(len(abs_price_diff[0:4]) )\n",
    "# df = pd.DataFrame({\"Stakes at T3\": stat_dists_month_h2 }, index=x)\n",
    "\n",
    "#         btc_prices_loc = os.path.join(os.getcwd(),'btc-2013.csv')\n",
    "#         btc_prices = pd.read_csv(btc_prices_loc)\n",
    "# btc_prices.iloc[idxes]['Close Price']\n",
    "\n",
    "df2 = pd.DataFrame({\"BTC price\": np.abs(norm_abs_price_diff[0:4]) }, index=x2)\n",
    "# btc_prices.iloc[idxes]\n",
    "# df2\n",
    "\n",
    "fig, axis1 = plt.subplots()\n",
    "fig2, axis3 = plt.subplots()\n",
    "\n",
    "axis2 = axis1.twinx()\n",
    "axis1.bar(x, np.abs(norm_stat_dists[0:4]))\n",
    "axis1.set_ylabel(\"Stake shift\")\n",
    "axis2.bar(x, np.abs(norm_abs_price_diff[0:4]), color='red', alpha=0.4)\n",
    "axis3.bar(x, np.abs(norm_abs_price_diff[0:4]), color='red', alpha=0.4)\n",
    "\n",
    "# axis2.bar(x2, stat_dists_week_h2[0:4, color='red', opacity=0.4)\n",
    "\n",
    "axis2.plot(df2,'red')\n",
    "# axis2.set_ylabel(\"BTC price in $\")\n",
    "# axis2.set_xticks((x2))\n",
    "# axis2.grid(b=False)\n",
    "# axis1.set_xticks(range(len(mod_stat_dists)))\n",
    "axis1.set_xticklabels((\"NovW1-NovW2\", \"NovW2-NovW3\",\"NovW3-NovW4\", \"NovW4-DecW1\", \"DecW1-DecW2\", \"DecW2-DecW3\", \"DecW3-DecW4\"),rotation=45,ha=\"right\")\n",
    "btc_price_handle = matplotlib.patches.Patch(color='red',label='BTC price in $')\n",
    "stake_shift_handle = matplotlib.patches.Patch(color='C0',label='Stake shift')\n",
    "fig.legend(handles=[btc_price_handle,stake_shift_handle])\n"
   ]
  },
  {
   "cell_type": "code",
   "execution_count": null,
   "metadata": {
    "collapsed": true
   },
   "outputs": [],
   "source": [
    "np.corrcoef(stat_dists_week_h2[0:4], abs_price_diff[0:4])[0,1]"
   ]
  },
  {
   "cell_type": "code",
   "execution_count": null,
   "metadata": {
    "collapsed": true
   },
   "outputs": [],
   "source": [
    "abs_price_diff[0:2], stat_dists_week_h2[0:2]"
   ]
  },
  {
   "cell_type": "code",
   "execution_count": null,
   "metadata": {
    "collapsed": true
   },
   "outputs": [],
   "source": [
    "np.corrcoef(norm_abs_price_diff[0:4], norm_stat_dists[0:4])"
   ]
  },
  {
   "cell_type": "code",
   "execution_count": null,
   "metadata": {
    "collapsed": true
   },
   "outputs": [],
   "source": [
    "(1/(len(abs_price_diff)-1))* np.sum(((np.array(stat_dists_week_h2) - np.mean(stat_dists_week_h2))/np.std(stat_dists_week_h2)) * ((np.array(abs_price_diff) - np.mean(abs_price_diff))/np.std(abs_price_diff)))"
   ]
  },
  {
   "cell_type": "code",
   "execution_count": null,
   "metadata": {
    "collapsed": true
   },
   "outputs": [],
   "source": [
    "norm_abs_price_diff = (np.array(abs_price_diff) - np.mean(abs_price_diff))/np.std(abs_price_diff)\n",
    "norm_stat_dists = (np.array(stat_dists_week_h2) - np.mean(stat_dists_week_h2))/np.std(stat_dists_week_h2)"
   ]
  },
  {
   "cell_type": "code",
   "execution_count": null,
   "metadata": {
    "collapsed": true
   },
   "outputs": [],
   "source": [
    "np.abs(norm_stat_dists)"
   ]
  },
  {
   "cell_type": "code",
   "execution_count": null,
   "metadata": {
    "collapsed": true
   },
   "outputs": [],
   "source": [
    "norm_abs_price_diff"
   ]
  },
  {
   "cell_type": "code",
   "execution_count": null,
   "metadata": {
    "collapsed": true
   },
   "outputs": [],
   "source": [
    "pricediff_statdist_df_04 = pd.DataFrame({'abs_price_diff':norm_abs_price_diff[0:4],'stat_dist':norm_stat_dists[0:4]})"
   ]
  },
  {
   "cell_type": "code",
   "execution_count": null,
   "metadata": {
    "collapsed": true
   },
   "outputs": [],
   "source": [
    "import seaborn as sns\n",
    "sns.pairplot(data=pricediff_statdist_df_04, x_vars='stat_dist',y_vars='abs_price_diff', size=3)"
   ]
  },
  {
   "cell_type": "markdown",
   "metadata": {},
   "source": [
    "# Get daily stake shifts"
   ]
  },
  {
   "cell_type": "code",
   "execution_count": null,
   "metadata": {
    "collapsed": true
   },
   "outputs": [],
   "source": [
    "# Get heights of blocks for weekly stake shift computation\n",
    "T1 = calendar.timegm(datetime(2012,12,31).timetuple())\n",
    "T2 = calendar.timegm(datetime(2014,1,1).timetuple())\n",
    "T_blocks_month = chain.filter_blocks(lambda x : x.timestamp > T1 and x.timestamp < T2)\n",
    "heights = []\n",
    "days = list(range(1,32))\n",
    "month = 11 # December\n",
    "# months = [11,12] # Get stakes for every week of Nov and Dec\n",
    "\n",
    "for blk in T_blocks_month:\n",
    "    if blk.time.month == month:\n",
    "        if blk.time.day == days[0]:\n",
    "            heights.append(blk.height)\n",
    "            del days[0]\n",
    "            if len(days) == 0:\n",
    "                break;"
   ]
  },
  {
   "cell_type": "code",
   "execution_count": null,
   "metadata": {
    "collapsed": true
   },
   "outputs": [],
   "source": [
    "len(T_blocks_month)/1440"
   ]
  },
  {
   "cell_type": "code",
   "execution_count": null,
   "metadata": {
    "collapsed": true
   },
   "outputs": [],
   "source": [
    "# Daily Stakes using Cluster_h2 technique\n",
    "stakes_t_days_h2 = []\n",
    "for cluster in tqdm_notebook(clusters_h2.clusters()):\n",
    "    sub_stake = []\n",
    "    for height in heights:\n",
    "        stake = 0\n",
    "        for script in cluster.scripts:\n",
    "            stake += script.balance(height)\n",
    "        sub_stake.append(stake)\n",
    "    stakes_t_days_h2.append(sub_stake)"
   ]
  },
  {
   "cell_type": "code",
   "execution_count": null,
   "metadata": {
    "collapsed": true
   },
   "outputs": [],
   "source": [
    "# Compute stakes in terms of probabilities\n",
    "p_stakes_day_h2 = []\n",
    "for i in range(0,len(heights)):\n",
    "    stake = list(map(lambda x : x[i], stakes_t_days_h2))\n",
    "    p_stakes_day_h2.append(np.array(stake) / np.sum(stake))"
   ]
  },
  {
   "cell_type": "code",
   "execution_count": null,
   "metadata": {
    "collapsed": true
   },
   "outputs": [],
   "source": [
    "# Compute the statistical distance\n",
    "stat_dists_day_h2 = []\n",
    "for i in range(0, len(heights) -1):\n",
    "    stat_dists_day_h2.append(0.5 * np.sum(np.absolute(np.array(p_stakes_day_h2[i]) - np.array(p_stakes_day_h2[i+1]))))"
   ]
  },
  {
   "cell_type": "code",
   "execution_count": null,
   "metadata": {
    "collapsed": true
   },
   "outputs": [],
   "source": [
    "import os\n",
    "btc_prices_loc = os.path.join(os.getcwd(),'btc-2013.csv')\n",
    "btc_prices = pd.read_csv(btc_prices_loc)"
   ]
  },
  {
   "cell_type": "code",
   "execution_count": null,
   "metadata": {
    "collapsed": true
   },
   "outputs": [],
   "source": [
    "# Get BTC price for these days\n",
    "idxes = []\n",
    "days = list(range(1,32))# Get stakes for every day of month\n",
    "month = 12 \n",
    "for index, row in btc_prices.iterrows():\n",
    "    row_date = datetime.strptime(row['Date'],'%Y-%m-%d %X')\n",
    "    if row_date.month == month:\n",
    "        if row_date.day == days[0]:\n",
    "            idxes.append(index)\n",
    "            del days[0]\n",
    "            if len(days) == 0:\n",
    "                break;"
   ]
  },
  {
   "cell_type": "code",
   "execution_count": null,
   "metadata": {
    "collapsed": true
   },
   "outputs": [],
   "source": [
    "daily_btc_price_dec = list(btc_prices.iloc[idxes]['Close Price'])\n",
    "# Compute the statistical distance\n",
    "abs_price_diff = []\n",
    "for i in range(0, len(daily_btc_price_dec) -1):\n",
    "    abs_price_diff.append(np.absolute(daily_btc_price_dec[i] - daily_btc_price_dec[i+1]))"
   ]
  },
  {
   "cell_type": "code",
   "execution_count": null,
   "metadata": {
    "collapsed": true
   },
   "outputs": [],
   "source": [
    "s_shift_outliers = [(idx,val) for idx, val in enumerate(stat_dists_day_h2) if val > np.mean(stat_dists_day_h2)]"
   ]
  },
  {
   "cell_type": "code",
   "execution_count": null,
   "metadata": {
    "collapsed": true
   },
   "outputs": [],
   "source": [
    "s_shift_outliers"
   ]
  },
  {
   "cell_type": "code",
   "execution_count": null,
   "metadata": {
    "collapsed": true
   },
   "outputs": [],
   "source": [
    "for idx, val in enumerate(abs_price_diff):\n",
    "#     if idx == 0:\n",
    "#         print((idx, val, 0))\n",
    "#     elif idx < len(abs_price_diff)-1:\n",
    "    print((idx,val, stat_dists_day_h2[idx]))\n",
    "# [ for idx, val in enumerate(stat_dists_day_h2)]"
   ]
  },
  {
   "cell_type": "code",
   "execution_count": null,
   "metadata": {
    "collapsed": true
   },
   "outputs": [],
   "source": [
    "[(idx,val) for idx, val in enumerate(abs_price_diff)]"
   ]
  },
  {
   "cell_type": "code",
   "execution_count": null,
   "metadata": {
    "collapsed": true
   },
   "outputs": [],
   "source": [
    "abs_price_diff[]"
   ]
  },
  {
   "cell_type": "code",
   "execution_count": null,
   "metadata": {
    "collapsed": true
   },
   "outputs": [],
   "source": [
    "btc_diff_outliers = [abs_price_diff[u] for u in range(len(s_shift_outliers))]"
   ]
  },
  {
   "cell_type": "code",
   "execution_count": null,
   "metadata": {
    "collapsed": true
   },
   "outputs": [],
   "source": [
    "s_shift_outliers = list(map(lambda x : x[1], s_shift_outliers))"
   ]
  },
  {
   "cell_type": "code",
   "execution_count": null,
   "metadata": {
    "collapsed": true
   },
   "outputs": [],
   "source": [
    "s_shift_outliers[1:]"
   ]
  },
  {
   "cell_type": "code",
   "execution_count": null,
   "metadata": {
    "collapsed": true
   },
   "outputs": [],
   "source": [
    "np.corrcoef(stat_dists_day_h2[], btc_diff_outliers)[0,1]"
   ]
  },
  {
   "cell_type": "code",
   "execution_count": null,
   "metadata": {
    "collapsed": true
   },
   "outputs": [],
   "source": [
    "\n",
    "# mod_stat_dists = deepcopy(stat_dists_day_h2)\n",
    "# mod_stat_dists.insert(0,0)\n",
    "# x = range(1,len(mod_stat_dists) +1)\n",
    "x = range(1,len(stat_dists_day_h2)+1)\n",
    "\n",
    "# x2 = range(1, len(mod_stat_dists)+1 )\n",
    "# df = pd.DataFrame({\"Stakes at T3\": stat_dists_month_h2 }, index=x)\n",
    "\n",
    "#         btc_prices_loc = os.path.join(os.getcwd(),'btc-2013.csv')\n",
    "#         btc_prices = pd.read_csv(btc_prices_loc)\n",
    "# btc_prices.iloc[idxes]['Close Price']\n",
    "\n",
    "df2 = pd.DataFrame({\"BTC price\": abs_price_diff }, index=x)\n",
    "# btc_prices.iloc[idxes]\n",
    "# df2\n",
    "\n",
    "fig, axis1 = plt.subplots()\n",
    "# fig2, axis2 = plt.subplots()\n",
    "\n",
    "axis2 = axis1.twinx()\n",
    "axis1.bar(x, stat_dists_day_h2, align='center', width=0.8)\n",
    "axis1.set_ylabel(\"Stake shift\")\n",
    "axis1.set_xlabel(\"Days of the month\")\n",
    "axis2.bar(x, abs_price_diff, color='red', alpha=0.4)\n",
    "# axis2.plot(df2,'red')\n",
    "axis2.set_ylabel(\"BTC price in $\")\n",
    "axis2.set_xticks((x))\n",
    "# axis2.grid(b=False)\n",
    "axis1.set_xticks(x)\n",
    "axis1.set_xticklabels((x),rotation=45)\n",
    "# axis1.set_xticklabels((\"\",\"NovW1-NovW2\", \"NovW2-NovW3\",\"NovW3-NovW4\", \"NovW4-DecW1\", \"DecW1-DecW2\", \"DecW2-DecW3\", \"DecW3-DecW4\"),rotation=45,ha=\"right\")\n",
    "btc_price_handle = matplotlib.patches.Patch(color='red',label='Abs BTC price change', alpha=0.4)\n",
    "stake_shift_handle = matplotlib.patches.Patch(color='C0',label='Stake shift')\n",
    "fig.legend(handles=[btc_price_handle,stake_shift_handle])\n"
   ]
  },
  {
   "cell_type": "code",
   "execution_count": null,
   "metadata": {
    "collapsed": true
   },
   "outputs": [],
   "source": [
    "np.std(stat_dists_day_h2)"
   ]
  },
  {
   "cell_type": "code",
   "execution_count": null,
   "metadata": {
    "collapsed": true
   },
   "outputs": [],
   "source": [
    "np.var(stat_dists_day_h2)"
   ]
  },
  {
   "cell_type": "code",
   "execution_count": null,
   "metadata": {
    "collapsed": true
   },
   "outputs": [],
   "source": [
    "np.mean(stat_dists_day_h2)"
   ]
  },
  {
   "cell_type": "markdown",
   "metadata": {},
   "source": [
    "# Get hourly stake shift"
   ]
  },
  {
   "cell_type": "code",
   "execution_count": null,
   "metadata": {
    "collapsed": true
   },
   "outputs": [],
   "source": [
    "# Get heights of blocks for daily stake shift computation\n",
    "T1 = calendar.timegm(datetime(2013,12,15).timetuple())\n",
    "T2 = calendar.timegm(datetime(2013,12,16).timetuple())\n",
    "T_blocks_day = chain.filter_blocks(lambda x : x.timestamp > T1 and x.timestamp < T2)\n",
    "heights = []\n",
    "hours = list(range(0,24))\n",
    "for blk in T_blocks_day:\n",
    "    if blk.time.hour == hours[0]:\n",
    "        heights.append(blk.height)\n",
    "        del hours[0]\n",
    "        if len(hours) == 0:\n",
    "            break;"
   ]
  },
  {
   "cell_type": "code",
   "execution_count": null,
   "metadata": {
    "collapsed": true
   },
   "outputs": [],
   "source": [
    "len(T_blocks_hourly), len(heights)"
   ]
  },
  {
   "cell_type": "code",
   "execution_count": null,
   "metadata": {
    "collapsed": true
   },
   "outputs": [],
   "source": [
    "for blk in T_blocks_day:\n",
    "    for h in heights : \n",
    "        if blk.height == h:\n",
    "            print(blk.time)"
   ]
  },
  {
   "cell_type": "code",
   "execution_count": null,
   "metadata": {
    "collapsed": true
   },
   "outputs": [],
   "source": [
    "# Daily Stakes using Cluster_h2 technique\n",
    "stakes_t_hours_h2 = []\n",
    "for cluster in tqdm_notebook(clusters_h2.clusters()):\n",
    "    sub_stake = []\n",
    "    for height in heights:\n",
    "        stake = 0\n",
    "        for script in cluster.scripts:\n",
    "            stake += script.balance(height)\n",
    "        sub_stake.append(stake)\n",
    "    stakes_t_hours_h2.append(sub_stake)"
   ]
  },
  {
   "cell_type": "code",
   "execution_count": null,
   "metadata": {
    "collapsed": true
   },
   "outputs": [],
   "source": [
    "# Compute stakes in terms of probabilities\n",
    "p_stakes_hour_h2 = []\n",
    "for i in range(0,len(heights)):\n",
    "    stake = list(map(lambda x : x[i], stakes_t_hours_h2))\n",
    "    p_stakes_hour_h2.append(np.array(stake) / np.sum(stake))"
   ]
  },
  {
   "cell_type": "code",
   "execution_count": null,
   "metadata": {
    "collapsed": true
   },
   "outputs": [],
   "source": [
    "# Compute the statistical distance\n",
    "stat_dists_hour_h2 = []\n",
    "for i in range(0, len(heights) -1):\n",
    "    stat_dists_hour_h2.append(0.5 * np.sum(np.absolute(np.array(p_stakes_hour_h2[i]) - np.array(p_stakes_hour_h2[i+1]))))"
   ]
  },
  {
   "cell_type": "code",
   "execution_count": null,
   "metadata": {
    "collapsed": true
   },
   "outputs": [],
   "source": [
    "import os\n",
    "btc_prices_loc = os.path.join(os.getcwd(),'btc-15-dec.csv')\n",
    "btc_prices = pd.read_csv(btc_prices_loc)"
   ]
  },
  {
   "cell_type": "code",
   "execution_count": null,
   "metadata": {
    "collapsed": true
   },
   "outputs": [],
   "source": [
    "# Get BTC price for these hours\n",
    "idxes = []\n",
    "hours = list(range(0,24))# Get stakes for every hour\n",
    "\n",
    "day = 15\n",
    "month = 12\n",
    "year = 2013\n",
    "\n",
    "for index, row in btc_prices.iterrows():\n",
    "    row_date = datetime.strptime(row['Date'],'%Y-%m-%d %X')\n",
    "    if row_date.month == month and row_date.day == day and row_date.year == year:\n",
    "        if row_date.hour == hours[0]:\n",
    "            idxes.append(index)\n",
    "            del hours[0]\n",
    "            if len(hours) == 0:\n",
    "                break;"
   ]
  },
  {
   "cell_type": "code",
   "execution_count": null,
   "metadata": {
    "collapsed": true
   },
   "outputs": [],
   "source": [
    "hourly_btc_price_15dec = list(btc_prices.iloc[idxes]['Close Price'])\n",
    "# Compute the statistical distance\n",
    "abs_price_diff = []\n",
    "for i in range(0, len(hourly_btc_price_15dec) -1):\n",
    "    abs_price_diff.append(np.absolute(hourly_btc_price_15dec[i] - hourly_btc_price_15dec[i+1]))"
   ]
  },
  {
   "cell_type": "code",
   "execution_count": null,
   "metadata": {
    "collapsed": true
   },
   "outputs": [],
   "source": [
    "\n",
    "# mod_stat_dists = deepcopy(stat_dists_day_h2)\n",
    "# mod_stat_dists.insert(0,0)\n",
    "# x = range(1,len(mod_stat_dists) +1)\n",
    "x = range(0,len(stat_dists_hour_h2))\n",
    "\n",
    "# x2 = range(1, len(mod_stat_dists)+1 )\n",
    "# df = pd.DataFrame({\"Stakes at T3\": stat_dists_month_h2 }, index=x)\n",
    "\n",
    "#         btc_prices_loc = os.path.join(os.getcwd(),'btc-2013.csv')\n",
    "#         btc_prices = pd.read_csv(btc_prices_loc)\n",
    "# btc_prices.iloc[idxes]['Close Price']\n",
    "\n",
    "df2 = pd.DataFrame({\"BTC price\": abs_price_diff }, index=x)\n",
    "# btc_prices.iloc[idxes]\n",
    "# df2\n",
    "\n",
    "fig, axis1 = plt.subplots()\n",
    "# fig2, axis2 = plt.subplots()\n",
    "\n",
    "axis2 = axis1.twinx()\n",
    "axis1.bar(x, stat_dists_hour_h2, align='center', width=0.8)\n",
    "axis1.set_ylabel(\"Stake shift\")\n",
    "axis1.set_xlabel(\"Hours\")\n",
    "axis2.bar(x, abs_price_diff, color='red', alpha=0.4)\n",
    "# axis2.plot(df2,'red')\n",
    "axis2.set_ylabel(\"BTC price in $\")\n",
    "axis2.set_xticks((x))\n",
    "# axis2.grid(b=False)\n",
    "axis1.set_xticks(x)\n",
    "axis1.set_xticklabels((x),rotation=45)\n",
    "# axis1.set_xticklabels((\"\",\"NovW1-NovW2\", \"NovW2-NovW3\",\"NovW3-NovW4\", \"NovW4-DecW1\", \"DecW1-DecW2\", \"DecW2-DecW3\", \"DecW3-DecW4\"),rotation=45,ha=\"right\")\n",
    "btc_price_handle = matplotlib.patches.Patch(color='red',label='Abs BTC price change', alpha=0.4)\n",
    "stake_shift_handle = matplotlib.patches.Patch(color='C0',label='Stake shift')\n",
    "fig.legend(handles=[btc_price_handle,stake_shift_handle])"
   ]
  },
  {
   "cell_type": "code",
   "execution_count": null,
   "metadata": {
    "collapsed": true
   },
   "outputs": [],
   "source": [
    "np.corrcoef(stat_dis, abs_price_diff)[0,1]"
   ]
  },
  {
   "cell_type": "code",
   "execution_count": null,
   "metadata": {
    "collapsed": true
   },
   "outputs": [],
   "source": [
    "(1/(len(abs_price_diff)-1))* np.sum(((np.array(stat_dists_hour_h2) - np.mean(stat_dists_hour_h2))/np.std(stat_dists_hour_h2)) * ((np.array(abs_price_diff) - np.mean(abs_price_diff))/np.std(abs_price_diff)))"
   ]
  },
  {
   "cell_type": "code",
   "execution_count": null,
   "metadata": {
    "collapsed": true
   },
   "outputs": [],
   "source": [
    "np.corrcoef(stat_dists_hour_h2,abs_price_diff)[0,1]"
   ]
  },
  {
   "cell_type": "code",
   "execution_count": null,
   "metadata": {
    "collapsed": true
   },
   "outputs": [],
   "source": []
  }
 ],
 "metadata": {
  "kernelspec": {
   "display_name": "Python 2",
   "language": "python",
   "name": "python2"
  },
  "language_info": {
   "codemirror_mode": {
    "name": "ipython",
    "version": 2
   },
   "file_extension": ".py",
   "mimetype": "text/x-python",
   "name": "python",
   "nbconvert_exporter": "python",
   "pygments_lexer": "ipython2",
   "version": "2.7.15"
  }
 },
 "nbformat": 4,
 "nbformat_minor": 2
}
